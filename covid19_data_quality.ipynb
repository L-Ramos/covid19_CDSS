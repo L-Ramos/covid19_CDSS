{
 "cells": [
  {
   "cell_type": "markdown",
   "metadata": {},
   "source": [
    "This Jupyter worksheet is meant to give a quick overview on some statistics of all our patients, while also providing a clear statement on how this data was retrieved (with references to the fields within the Castor Forms)"
   ]
  },
  {
   "cell_type": "markdown",
   "metadata": {},
   "source": [
    "# Get all data from Castor database\n",
    "Note that you need export rights for every individual center."
   ]
  },
  {
   "cell_type": "code",
   "execution_count": 1,
   "metadata": {},
   "outputs": [
    {
     "name": "stdout",
     "output_type": "stream",
     "text": [
      "Http Error: 500 Server Error: Internal Server Error for url: https://data.castoredc.com/api/study/2B1B90BA-69B8-48F5-BF2E-640284CB8709/export/data\n"
     ]
    },
    {
     "ename": "NameError",
     "evalue": "error with api request (/study/2B1B90BA-69B8-48F5-BF2E-640284CB8709/export/data): ",
     "output_type": "error",
     "traceback": [
      "\u001b[0;31m---------------------------------------------------------------------------\u001b[0m",
      "\u001b[0;31mNameError\u001b[0m                                 Traceback (most recent call last)",
      "\u001b[0;32m<ipython-input-1-def5fb8ee4c2>\u001b[0m in \u001b[0;36m<module>\u001b[0;34m\u001b[0m\n\u001b[1;32m      1\u001b[0m \u001b[0;32mimport\u001b[0m \u001b[0mcovid19_import\u001b[0m\u001b[0;34m\u001b[0m\u001b[0;34m\u001b[0m\u001b[0m\n\u001b[0;32m----> 2\u001b[0;31m \u001b[0mstudy_data\u001b[0m\u001b[0;34m,\u001b[0m\u001b[0mstudy_struct\u001b[0m\u001b[0;34m,\u001b[0m\u001b[0mreports_data\u001b[0m\u001b[0;34m,\u001b[0m\u001b[0mreports_struct\u001b[0m\u001b[0;34m,\u001b[0m\u001b[0mcomplications_struct\u001b[0m\u001b[0;34m,\u001b[0m\u001b[0moptiongroups_structure\u001b[0m \u001b[0;34m=\u001b[0m \u001b[0mcovid19_import\u001b[0m\u001b[0;34m.\u001b[0m\u001b[0mimport_data\u001b[0m\u001b[0;34m(\u001b[0m\u001b[0;34m)\u001b[0m\u001b[0;34m\u001b[0m\u001b[0;34m\u001b[0m\u001b[0m\n\u001b[0m",
      "\u001b[0;32m~/Documents/Repositories/covid19_CDSS/covid19_import.py\u001b[0m in \u001b[0;36mimport_data\u001b[0;34m()\u001b[0m\n\u001b[1;32m     52\u001b[0m \u001b[0;34m\u001b[0m\u001b[0m\n\u001b[1;32m     53\u001b[0m     \u001b[0;31m# Get study data\u001b[0m\u001b[0;34m\u001b[0m\u001b[0;34m\u001b[0m\u001b[0;34m\u001b[0m\u001b[0m\n\u001b[0;32m---> 54\u001b[0;31m     \u001b[0mstudy_data\u001b[0m \u001b[0;34m=\u001b[0m \u001b[0mc\u001b[0m\u001b[0;34m.\u001b[0m\u001b[0mrequest_study_export_data\u001b[0m\u001b[0;34m(\u001b[0m\u001b[0mstudy_id\u001b[0m\u001b[0;34m)\u001b[0m\u001b[0;34m\u001b[0m\u001b[0;34m\u001b[0m\u001b[0m\n\u001b[0m\u001b[1;32m     55\u001b[0m \u001b[0;34m\u001b[0m\u001b[0m\n\u001b[1;32m     56\u001b[0m     \u001b[0;31m# Filter data tbat is not a study entry (i.e. reports, complications) - repeated measures; should be summarized first\u001b[0m\u001b[0;34m\u001b[0m\u001b[0;34m\u001b[0m\u001b[0;34m\u001b[0m\u001b[0m\n",
      "\u001b[0;32m~/Documents/Repositories/covid19_CDSS/castor_api.py\u001b[0m in \u001b[0;36mrequest_study_export_data\u001b[0;34m(self, study_id)\u001b[0m\n\u001b[1;32m    110\u001b[0m \u001b[0;34m\u001b[0m\u001b[0m\n\u001b[1;32m    111\u001b[0m     \u001b[0;32mdef\u001b[0m \u001b[0mrequest_study_export_data\u001b[0m\u001b[0;34m(\u001b[0m\u001b[0mself\u001b[0m\u001b[0;34m,\u001b[0m\u001b[0mstudy_id\u001b[0m\u001b[0;34m)\u001b[0m\u001b[0;34m:\u001b[0m\u001b[0;34m\u001b[0m\u001b[0;34m\u001b[0m\u001b[0m\n\u001b[0;32m--> 112\u001b[0;31m         \u001b[0mresponse\u001b[0m \u001b[0;34m=\u001b[0m \u001b[0mself\u001b[0m\u001b[0;34m.\u001b[0m\u001b[0mrequest\u001b[0m\u001b[0;34m(\u001b[0m\u001b[0;34m'/study/'\u001b[0m\u001b[0;34m+\u001b[0m\u001b[0mstudy_id\u001b[0m\u001b[0;34m+\u001b[0m\u001b[0;34m'/export/data'\u001b[0m\u001b[0;34m)\u001b[0m\u001b[0;34m\u001b[0m\u001b[0;34m\u001b[0m\u001b[0m\n\u001b[0m\u001b[1;32m    113\u001b[0m         \u001b[0mdata\u001b[0m \u001b[0;34m=\u001b[0m \u001b[0mprocess_table\u001b[0m\u001b[0;34m(\u001b[0m\u001b[0mresponse\u001b[0m\u001b[0;34m.\u001b[0m\u001b[0mtext\u001b[0m\u001b[0;34m)\u001b[0m\u001b[0;34m\u001b[0m\u001b[0;34m\u001b[0m\u001b[0m\n\u001b[1;32m    114\u001b[0m         \u001b[0;32mreturn\u001b[0m \u001b[0mdata\u001b[0m\u001b[0;34m\u001b[0m\u001b[0;34m\u001b[0m\u001b[0m\n",
      "\u001b[0;32m~/Documents/Repositories/covid19_CDSS/castor_api.py\u001b[0m in \u001b[0;36mrequest\u001b[0;34m(self, request)\u001b[0m\n\u001b[1;32m     70\u001b[0m             \u001b[0;32mreturn\u001b[0m \u001b[0mresponse\u001b[0m\u001b[0;34m\u001b[0m\u001b[0;34m\u001b[0m\u001b[0m\n\u001b[1;32m     71\u001b[0m         \u001b[0;32melse\u001b[0m\u001b[0;34m:\u001b[0m\u001b[0;34m\u001b[0m\u001b[0;34m\u001b[0m\u001b[0m\n\u001b[0;32m---> 72\u001b[0;31m             \u001b[0;32mraise\u001b[0m \u001b[0mNameError\u001b[0m\u001b[0;34m(\u001b[0m\u001b[0;34m'error with api request ('\u001b[0m\u001b[0;34m+\u001b[0m\u001b[0mrequest\u001b[0m\u001b[0;34m+\u001b[0m\u001b[0;34m'): '\u001b[0m\u001b[0;34m+\u001b[0m\u001b[0mresponse\u001b[0m\u001b[0;34m.\u001b[0m\u001b[0mtext\u001b[0m\u001b[0;34m)\u001b[0m\u001b[0;34m\u001b[0m\u001b[0;34m\u001b[0m\u001b[0m\n\u001b[0m\u001b[1;32m     73\u001b[0m \u001b[0;34m\u001b[0m\u001b[0m\n\u001b[1;32m     74\u001b[0m     \u001b[0;32mdef\u001b[0m \u001b[0mrequest_json\u001b[0m\u001b[0;34m(\u001b[0m\u001b[0mself\u001b[0m\u001b[0;34m,\u001b[0m\u001b[0mrequest\u001b[0m\u001b[0;34m)\u001b[0m\u001b[0;34m:\u001b[0m\u001b[0;34m\u001b[0m\u001b[0;34m\u001b[0m\u001b[0m\n",
      "\u001b[0;31mNameError\u001b[0m: error with api request (/study/2B1B90BA-69B8-48F5-BF2E-640284CB8709/export/data): "
     ]
    }
   ],
   "source": [
    "import covid19_import\n",
    "study_data,study_struct,reports_data,reports_struct,complications_struct,optiongroups_structure = covid19_import.import_data()"
   ]
  },
  {
   "cell_type": "markdown",
   "metadata": {},
   "source": [
    "## Export all variables to excel"
   ]
  },
  {
   "cell_type": "code",
   "execution_count": 2,
   "metadata": {},
   "outputs": [],
   "source": [
    "import pandas\n",
    "target_excel = '/Users/wouterpotters/Desktop/covid19_variables.xlsx'\n",
    "writer = pandas.ExcelWriter(target_excel, engine='xlsxwriter')\n",
    "\n",
    "readme = 'This excel sheet contains an overview of the variables that are used in the Castor EDC database for the COVID 19 project. \\nThere are three tabs; \\n(1) Admission variables; to be entered once and updated incidentally. \\n(2) Daily reports are created once per day. \\n(3) Complications are filled in as they arise.'\n",
    "readme = pandas.DataFrame([x for x in readme.split('\\n')])\n",
    "\n",
    "# Write each dataframe to a different worksheet.\n",
    "readme.to_excel(writer, sheet_name='README',index=False)\n",
    "study_struct.to_excel(writer, sheet_name='AdmissionVariables',index=False)\n",
    "reports_struct.to_excel(writer, sheet_name='DailyUpdateVariables',index=False)\n",
    "complications_struct.to_excel(writer, sheet_name='ComplicationsVariables',index=False)\n",
    "optiongroups_structure.to_excel(writer, sheet_name='OptionGroups',index=False)\n",
    "\n",
    "writer.save() # save excel file"
   ]
  },
  {
   "cell_type": "markdown",
   "metadata": {},
   "source": [
    "# Patient counts\n",
    "## Total number of patients"
   ]
  },
  {
   "cell_type": "code",
   "execution_count": 3,
   "metadata": {
    "scrolled": true
   },
   "outputs": [
    {
     "name": "stdout",
     "output_type": "stream",
     "text": [
      "Total number of patients (with any data) is: 232\n",
      "Total number of patients with admission date: 224\n",
      "  > Transferred from other center: 36 (original admission date available in 35/36)\n",
      "  > ICU admissions: 50\n",
      "  > Discharged ICU admissions: 15\n"
     ]
    }
   ],
   "source": [
    "print('Total number of patients (with any data) is: '+str(len(study_data)))\n",
    "\n",
    "# HOSPITAL ADMISSION\tONSET & ADMISSION\tadmission_dt\tAdmission date at this facility:\n",
    "has_admission_date = [x == False for x in study_data['admission_dt'].isna()]\n",
    "print('Total number of patients with admission date: '+str(len(study_data[has_admission_date])))\n",
    "\n",
    "# HOSPITAL ADMISSION\tONSET & ADMISSION\tfacility_transfer\tTransfer from other facility?\n",
    "# YES-facility is a study site\t1\n",
    "# YES-facility is not a study site\t2\n",
    "# No\t3\n",
    "# HOSPITAL ADMISSION\tONSET & ADMISSION\tadmission_facility_dt\tAdmission date at transfer facility\n",
    "is_transferred = [(x == '1' or x == '2') for x in study_data['facility_transfer']]\n",
    "has_transfer_admission_date = [x == False for x in study_data['admission_facility_dt'].isna()]\n",
    "print('  > Transferred from other center: '+str(len(study_data[is_transferred]))+' (original admission date available in '+str(len(study_data[has_transfer_admission_date]))+'/'+str(len(study_data[is_transferred]))+')')\n",
    "\n",
    "# TREATMENT\tTREATMENTS during admission\tAdmission_dt_icu_1\tAdmission date ICU\n",
    "has_ICU_admission_date = [x == False for x in study_data['Admission_dt_icu_1'].isna()]\n",
    "# TREATMENT\tTREATMENTS during admission\tDischarge_dt_icu_1\tDischarge date ICU\n",
    "print('  > ICU admissions: '+str(len(study_data[has_ICU_admission_date])))\n",
    "has_ICU_discharge_date = [x == False for x in study_data['Discharge_dt_icu_1'].isna()]\n",
    "print('  > Discharged ICU admissions: '+str(len(study_data[has_ICU_admission_date and has_ICU_discharge_date])))\n"
   ]
  },
  {
   "cell_type": "markdown",
   "metadata": {},
   "source": [
    "## Duration of hospital stay\n",
    "1) Select all patients that are admitted to the hospital AND were at the ICU at some point.\n",
    "\n"
   ]
  },
  {
   "cell_type": "code",
   "execution_count": 4,
   "metadata": {},
   "outputs": [],
   "source": [
    "# HOSPITAL ADMISSION\tONSET & ADMISSION\tadmission_dt\tAdmission date at this facility:\n",
    "has_admission_date = [x == False for x in study_data['admission_dt'].isna()]\n",
    "\n",
    "# TREATMENT\tTREATMENTS during admission\tAdmission_dt_icu_1\tAdmission date ICU\n",
    "has_ICU_admission_date = [x == False for x in study_data['Admission_dt_icu_1'].isna()]\n"
   ]
  },
  {
   "cell_type": "markdown",
   "metadata": {},
   "source": [
    "2) Calculate time (in days) from admission to ICU admission\n",
    "\n"
   ]
  },
  {
   "cell_type": "code",
   "execution_count": 21,
   "metadata": {},
   "outputs": [
    {
     "name": "stdout",
     "output_type": "stream",
     "text": [
      "These patients have a negative time difference between admission and ICU admission:\n",
      "Record ID\n",
      "120008     -3 days\n",
      "130023    -29 days\n",
      "140010   -173 days\n",
      "dtype: timedelta64[ns]\n",
      "These patients have a negative time difference between ICU admission and ICU discharge:\n",
      "Record ID\n",
      "130002     -1 days\n",
      "140012   -263 days\n",
      "dtype: timedelta64[ns]\n",
      "Mean +/- std ICU stay (n=11 discharged patients): 3 days 10:54:32.727272 +/- 2 days 00:23:42.246209\n"
     ]
    }
   ],
   "source": [
    "import numpy\n",
    "# convert string to dates\n",
    "patient_ICU_dates_admissions = pandas.DataFrame([pandas.to_datetime(study_data[x][has_admission_date and has_ICU_admission_date]) for x in study_data[['admission_dt','Admission_dt_icu_1']]]).transpose()\n",
    "patient_ICU_dates_discharge_ICU = pandas.DataFrame([pandas.to_datetime(study_data[x][has_admission_date and has_ICU_admission_date and has_ICU_discharge_date]) for x in study_data[['Admission_dt_icu_1','Discharge_dt_icu_1']]]).transpose()\n",
    "\n",
    "time_from_hospital_admission_to_ICU = patient_ICU_dates_admissions['Admission_dt_icu_1'] - patient_ICU_dates_admissions['admission_dt']\n",
    "time_from_ICU_admission_to_ICU_discharge = patient_ICU_dates_discharge_ICU['Discharge_dt_icu_1'] - patient_ICU_dates_discharge_ICU['Admission_dt_icu_1']\n",
    "\n",
    "print('These patients have a negative time difference between admission and ICU admission:')\n",
    "print(time_from_hospital_admission_to_ICU[[x.days < 0 for x in time_from_hospital_admission_to_ICU]])\n",
    "\n",
    "print('These patients have a negative time difference between ICU admission and ICU discharge:')\n",
    "print(time_from_ICU_admission_to_ICU_discharge[[x.days < 0 for x in time_from_ICU_admission_to_ICU_discharge]])\n",
    "\n",
    "# average stay on ICU\n",
    "valid_ICU_durations = time_from_ICU_admission_to_ICU_discharge[[x.days > 0 for x in time_from_ICU_admission_to_ICU_discharge]]\n",
    "print('Mean +/- std ICU stay (n=' + str(len(valid_ICU_durations)) + ' discharged patients): '+ str(numpy.mean(valid_ICU_durations)) + ' +/- ' + str(numpy.std(valid_ICU_durations)))\n"
   ]
  },
  {
   "cell_type": "markdown",
   "metadata": {},
   "source": [
    "\n",
    "3) Calculate time on ICU (with active and discharged patients)\n"
   ]
  },
  {
   "cell_type": "code",
   "execution_count": 27,
   "metadata": {},
   "outputs": [
    {
     "name": "stdout",
     "output_type": "stream",
     "text": [
      "Mean +/- std ICU stay (n=48 discharged and nondischarged patients): 6 days 04:44:30.597812 +/- 5 days 06:22:20.315115\n"
     ]
    }
   ],
   "source": [
    "from datetime import datetime\n",
    "import numpy\n",
    "all_ICU_patients = pandas.DataFrame([pandas.to_datetime(study_data[x][has_admission_date and has_ICU_admission_date]) for x in study_data[['Admission_dt_icu_1','Discharge_dt_icu_1']]]).transpose()\n",
    "all_ICU_patients = all_ICU_patients.fillna(datetime.now())\n",
    "\n",
    "time_on_ICU = all_ICU_patients['Discharge_dt_icu_1']-all_ICU_patients['Admission_dt_icu_1']\n",
    "valid_ICU_durations = time_on_ICU[[x.days >= 0 for x in time_on_ICU]]\n",
    "\n",
    "# ignore ICU stays op < 0 days\n",
    "print('Mean +/- std ICU stay (n=' + str(len(valid_ICU_durations)) + ' discharged and nondischarged patients): '+ str(numpy.mean(valid_ICU_durations)) + ' +/- ' + str(numpy.std(valid_ICU_durations)))\n"
   ]
  },
  {
   "cell_type": "markdown",
   "metadata": {},
   "source": [
    "## Outcome so far\n",
    "1) Alle ontslagen patienten\n",
    "\n",
    "2) Outcome van alle ontslagen patienten\n"
   ]
  },
  {
   "cell_type": "code",
   "execution_count": 29,
   "metadata": {},
   "outputs": [
    {
     "ename": "SyntaxError",
     "evalue": "invalid syntax (<ipython-input-29-854c710a2ac7>, line 1)",
     "output_type": "error",
     "traceback": [
      "\u001b[0;36m  File \u001b[0;32m\"<ipython-input-29-854c710a2ac7>\"\u001b[0;36m, line \u001b[0;32m1\u001b[0m\n\u001b[0;31m    huidig aantal COVID patiënten in rest van ZH\u001b[0m\n\u001b[0m                ^\u001b[0m\n\u001b[0;31mSyntaxError\u001b[0m\u001b[0;31m:\u001b[0m invalid syntax\n"
     ]
    }
   ],
   "source": [
    "huidig aantal COVID patiënten in rest van ZH\n",
    "kans van gemiddelde COVID zaal / MC patiënt naar IC moet < 24 uur. < 48 uur, < 72 uur \n",
    "kans dat gemiddelde COVID zaal patiënt kan worden ontslagen < 24 uur. < 48 uur, < 72 uur \n",
    "kans dat gemiddelde IC patiënt nog 24, 48 en 72 uur op IC moet blijven \n",
    "duur van gemiddelde zaal / MC opname\n",
    "te verwachten gemiddelde resterende duur van zaal / MC opname \n",
    "te verwachten gemiddelde resterende duur van IC opname\n",
    "% aantal opgenomen patiënten met te verwachten goede outcome (naar huis), met te verwachten redelijke outcome (revalidatie), matige outcome (verpleegtehuis), slechte outcome (palliatie, overlijden)\n",
    "outcome so far van alle behandelde patiënten (naar huis, revalidatie, verpleeghuis, palliatie, ander centrum, onbekend)\n",
    "aantal behandelde patiënten so far \n",
    "code waarin staat hoe het met de capaciteit in ZH is obv voor Corona beschikbare bedden - groen oranje rood zwart\n",
    "(aantal patiënten dat optimale behandeling krijgt - controversieel - niet in 1.0 versie"
   ]
  },
  {
   "cell_type": "code",
   "execution_count": null,
   "metadata": {},
   "outputs": [],
   "source": []
  }
 ],
 "metadata": {
  "kernelspec": {
   "display_name": "Python 3",
   "language": "python",
   "name": "python3"
  },
  "language_info": {
   "codemirror_mode": {
    "name": "ipython",
    "version": 3
   },
   "file_extension": ".py",
   "mimetype": "text/x-python",
   "name": "python",
   "nbconvert_exporter": "python",
   "pygments_lexer": "ipython3",
   "version": "3.7.6"
  }
 },
 "nbformat": 4,
 "nbformat_minor": 4
}
