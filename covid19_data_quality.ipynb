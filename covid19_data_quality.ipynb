{
 "cells": [
  {
   "cell_type": "markdown",
   "metadata": {},
   "source": [
    "This Jupyter worksheet is meant to give a quick overview on some statistics of all our patients, while also providing a clear statement on how this data was retrieved (with references to the fields within the Castor Forms)"
   ]
  },
  {
   "cell_type": "code",
   "execution_count": 7,
   "metadata": {},
   "outputs": [],
   "source": [
    "# Import all requirements\n",
    "import covid19_import \n",
    "import pandas as pd, numpy as np, requests, seaborn as sbn, pickle\n",
    "from datetime import datetime\n",
    "\n",
    "import matplotlib.pyplot as plt\n",
    "import matplotlib.dates as mdates\n",
    "import matplotlib.lines"
   ]
  },
  {
   "cell_type": "markdown",
   "metadata": {},
   "source": [
    "# Get all data from Castor database\n",
    "Note that you need export rights for every individual center."
   ]
  },
  {
   "cell_type": "code",
   "execution_count": 8,
   "metadata": {},
   "outputs": [],
   "source": [
    "path_to_creds = './castor_api_creds/'\n",
    "study_data,study_struct,reports_data,reports_struct,optiongroups_struct = covid19_import.import_data(path_to_creds)\n"
   ]
  },
  {
   "cell_type": "markdown",
   "metadata": {},
   "source": [
    "## Export all variables to excel"
   ]
  },
  {
   "cell_type": "code",
   "execution_count": 9,
   "metadata": {},
   "outputs": [
    {
     "ename": "ModuleNotFoundError",
     "evalue": "No module named 'xlsxwriter'",
     "output_type": "error",
     "traceback": [
      "\u001b[1;31m---------------------------------------------------------------------------\u001b[0m",
      "\u001b[1;31mModuleNotFoundError\u001b[0m                       Traceback (most recent call last)",
      "\u001b[1;32m<ipython-input-9-3cb811c8335a>\u001b[0m in \u001b[0;36m<module>\u001b[1;34m\u001b[0m\n\u001b[0;32m      1\u001b[0m \u001b[0mtarget_excel\u001b[0m \u001b[1;33m=\u001b[0m \u001b[1;34m'/Users/wouterpotters/Desktop/covid19_variables.xlsx'\u001b[0m\u001b[1;33m\u001b[0m\u001b[1;33m\u001b[0m\u001b[0m\n\u001b[1;32m----> 2\u001b[1;33m \u001b[0mwriter\u001b[0m \u001b[1;33m=\u001b[0m \u001b[0mpd\u001b[0m\u001b[1;33m.\u001b[0m\u001b[0mExcelWriter\u001b[0m\u001b[1;33m(\u001b[0m\u001b[0mtarget_excel\u001b[0m\u001b[1;33m,\u001b[0m \u001b[0mengine\u001b[0m\u001b[1;33m=\u001b[0m\u001b[1;34m'xlsxwriter'\u001b[0m\u001b[1;33m)\u001b[0m\u001b[1;33m\u001b[0m\u001b[1;33m\u001b[0m\u001b[0m\n\u001b[0m\u001b[0;32m      3\u001b[0m \u001b[1;33m\u001b[0m\u001b[0m\n\u001b[0;32m      4\u001b[0m \u001b[0mreadme\u001b[0m \u001b[1;33m=\u001b[0m \u001b[1;34m'This excel sheet contains an overview of the variables that are used in the Castor EDC database for the COVID 19 project. \\nThere are three tabs; \\n(1) Admission variables; to be entered once and updated incidentally. \\n(2) Daily reports are created once per day. \\n(3) Complications are filled in as they arise.'\u001b[0m\u001b[1;33m\u001b[0m\u001b[1;33m\u001b[0m\u001b[0m\n\u001b[0;32m      5\u001b[0m \u001b[0mreadme\u001b[0m \u001b[1;33m=\u001b[0m \u001b[0mpd\u001b[0m\u001b[1;33m.\u001b[0m\u001b[0mDataFrame\u001b[0m\u001b[1;33m(\u001b[0m\u001b[1;33m[\u001b[0m\u001b[0mx\u001b[0m \u001b[1;32mfor\u001b[0m \u001b[0mx\u001b[0m \u001b[1;32min\u001b[0m \u001b[0mreadme\u001b[0m\u001b[1;33m.\u001b[0m\u001b[0msplit\u001b[0m\u001b[1;33m(\u001b[0m\u001b[1;34m'\\n'\u001b[0m\u001b[1;33m)\u001b[0m\u001b[1;33m]\u001b[0m\u001b[1;33m)\u001b[0m\u001b[1;33m\u001b[0m\u001b[1;33m\u001b[0m\u001b[0m\n",
      "\u001b[1;32m~\\AppData\\Local\\Continuum\\anaconda3\\envs\\adbs\\lib\\site-packages\\pandas\\io\\excel\\_xlsxwriter.py\u001b[0m in \u001b[0;36m__init__\u001b[1;34m(self, path, engine, date_format, datetime_format, mode, **engine_kwargs)\u001b[0m\n\u001b[0;32m    172\u001b[0m     ):\n\u001b[0;32m    173\u001b[0m         \u001b[1;31m# Use the xlsxwriter module as the Excel writer.\u001b[0m\u001b[1;33m\u001b[0m\u001b[1;33m\u001b[0m\u001b[1;33m\u001b[0m\u001b[0m\n\u001b[1;32m--> 174\u001b[1;33m         \u001b[1;32mimport\u001b[0m \u001b[0mxlsxwriter\u001b[0m\u001b[1;33m\u001b[0m\u001b[1;33m\u001b[0m\u001b[0m\n\u001b[0m\u001b[0;32m    175\u001b[0m \u001b[1;33m\u001b[0m\u001b[0m\n\u001b[0;32m    176\u001b[0m         \u001b[1;32mif\u001b[0m \u001b[0mmode\u001b[0m \u001b[1;33m==\u001b[0m \u001b[1;34m\"a\"\u001b[0m\u001b[1;33m:\u001b[0m\u001b[1;33m\u001b[0m\u001b[1;33m\u001b[0m\u001b[0m\n",
      "\u001b[1;31mModuleNotFoundError\u001b[0m: No module named 'xlsxwriter'"
     ]
    }
   ],
   "source": [
    "target_excel = '/Users/wouterpotters/Desktop/covid19_variables.xlsx'\n",
    "writer = pd.ExcelWriter(target_excel, engine='xlsxwriter')\n",
    "\n",
    "readme = 'This excel sheet contains an overview of the variables that are used in the Castor EDC database for the COVID 19 project. \\nThere are three tabs; \\n(1) Admission variables; to be entered once and updated incidentally. \\n(2) Daily reports are created once per day. \\n(3) Complications are filled in as they arise.'\n",
    "readme = pd.DataFrame([x for x in readme.split('\\n')])\n",
    "\n",
    "# Write each dataframe to a different worksheet.\n",
    "readme.to_excel(writer, sheet_name='README',index=False)\n",
    "#study_struct.to_excel(writer, sheet_name='AdmissionVariables',index=False)\n",
    "#reports_struct.to_excel(writer, sheet_name='DailyUpdateVariables',index=False)\n",
    "optiongroups_struct.to_excel(writer, sheet_name='OptionGroups',index=False)\n",
    "\n",
    "# added answeroptions to the excel file\n",
    "answeroptions = pd.pivot_table(optiongroups_struct,index='Option Group Id',values=['Option Name','Option Value'],aggfunc=lambda x:list(x))\n",
    "answeroptions.rename(columns={'Option Name': 'Field Options Names','Option Value': 'Field Options Values'})\n",
    "study_struct_withoptions = pd.merge(study_struct,answeroptions,how='left',left_on='Field Option Group',right_on='Option Group Id')\n",
    "study_struct_withoptions.to_excel(writer, sheet_name='AdmissionVariables',index=False)\n",
    "\n",
    "reports_struct_withoptions = pd.merge(reports_struct,answeroptions,how='left',left_on='Field Option Group',right_on='Option Group Id')\n",
    "reports_struct_withoptions.to_excel(writer, sheet_name='DailyUpdateVariables',index=False)\n",
    "\n",
    "writer.save() # save excel file"
   ]
  },
  {
   "cell_type": "markdown",
   "metadata": {},
   "source": [
    "# Patient counts\n",
    "## Total number of patients"
   ]
  },
  {
   "cell_type": "code",
   "execution_count": null,
   "metadata": {
    "scrolled": true
   },
   "outputs": [],
   "source": [
    "print('Total number of patients (with any data) is: '+str(len(study_data)))\n",
    "\n",
    "# HOSPITAL ADMISSION\tONSET & ADMISSION\tadmission_dt\tAdmission date at this facility:\n",
    "has_admission_date = [x == False for x in study_data['admission_dt'].isna()]\n",
    "print('Total number of patients with admission date: '+str(len(study_data[has_admission_date])))\n",
    "\n",
    "# HOSPITAL ADMISSION\tONSET & ADMISSION\tfacility_transfer\tTransfer from other facility?\n",
    "# YES-facility is a study site\t1\n",
    "# YES-facility is not a study site\t2\n",
    "# No\t3\n",
    "# HOSPITAL ADMISSION\tONSET & ADMISSION\tadmission_facility_dt\tAdmission date at transfer facility\n",
    "is_transferred = [(x == '1' or x == '2') for x in study_data['facility_transfer']]\n",
    "has_transfer_admission_date = [x == False for x in study_data['admission_facility_dt'].isna()]\n",
    "print('  > Transferred from other center: '+str(len(study_data[is_transferred]))+' (original admission date available in '+str(len(study_data[has_transfer_admission_date]))+'/'+str(len(study_data[is_transferred]))+')')\n",
    "\n",
    "# TREATMENT\tTREATMENTS during admission\tAdmission_dt_icu_1\tAdmission date ICU\n",
    "has_ICU_admission_date = [x == False for x in study_data['Admission_dt_icu_1'].isna()]\n",
    "# TREATMENT\tTREATMENTS during admission\tDischarge_dt_icu_1\tDischarge date ICU\n",
    "print('  > ICU admissions: '+str(len(study_data[has_ICU_admission_date])))\n",
    "has_ICU_discharge_date = [x == False for x in study_data['Discharge_dt_icu_1'].isna()]\n",
    "print('  > Discharged ICU admissions: '+str(len(study_data[has_ICU_admission_date and has_ICU_discharge_date])))\n"
   ]
  },
  {
   "cell_type": "markdown",
   "metadata": {},
   "source": [
    "## Duration of hospital stay\n",
    "1) Select all patients that are admitted to the hospital AND were at the ICU at some point.\n",
    "\n"
   ]
  },
  {
   "cell_type": "code",
   "execution_count": null,
   "metadata": {},
   "outputs": [],
   "source": [
    "# HOSPITAL ADMISSION\tONSET & ADMISSION\tadmission_dt\tAdmission date at this facility:\n",
    "has_admission_date = [x == False for x in study_data['admission_dt'].isna()]\n",
    "\n",
    "has_outcome_date = [x == False for x in study_data['Outcome_dt'].isna()] # = discharge date\n",
    "\n",
    "# TREATMENT\tTREATMENTS during admission\tAdmission_dt_icu_1\tAdmission date ICU\n",
    "has_ICU_admission_date = [x == False for x in study_data['Admission_dt_icu_1'].isna()]\n",
    "\n",
    "# fix all 11-11-1111 dates to NaN\n",
    "study_data = study_data.replace(to_replace='11-11-1111', value=np.nan)"
   ]
  },
  {
   "cell_type": "markdown",
   "metadata": {},
   "source": [
    "2) Calculate time (in days) from admission to ICU admission\n",
    "\n"
   ]
  },
  {
   "cell_type": "code",
   "execution_count": null,
   "metadata": {},
   "outputs": [],
   "source": [
    "# convert string to dates\n",
    "patient_ICU_dates_admissions = pd.DataFrame([pd.to_datetime(study_data[x][has_admission_date and has_ICU_admission_date]) for x in study_data[['admission_dt','Admission_dt_icu_1']]]).transpose()\n",
    "patient_ICU_dates_discharge_ICU = pd.DataFrame([pd.to_datetime(study_data[x][has_admission_date and has_ICU_admission_date and has_ICU_discharge_date]) for x in study_data[['Admission_dt_icu_1','Discharge_dt_icu_1']]]).transpose()\n",
    "\n",
    "time_from_hospital_admission_to_ICU = patient_ICU_dates_admissions['Admission_dt_icu_1'] - patient_ICU_dates_admissions['admission_dt']\n",
    "time_from_ICU_admission_to_ICU_discharge = patient_ICU_dates_discharge_ICU['Discharge_dt_icu_1'] - patient_ICU_dates_discharge_ICU['Admission_dt_icu_1']\n",
    "\n",
    "print('These patients have a negative time difference between admission and ICU admission:')\n",
    "print(time_from_hospital_admission_to_ICU[[x.days < 0 for x in time_from_hospital_admission_to_ICU]])\n",
    "print()\n",
    "print('These patients have a negative time difference between ICU admission and ICU discharge:')\n",
    "print(time_from_ICU_admission_to_ICU_discharge[[x.days < 0 for x in time_from_ICU_admission_to_ICU_discharge]])\n",
    "print()\n",
    "\n",
    "\n",
    "\n",
    "# average stay on ICU\n",
    "valid_ICU_durations_complete = time_from_ICU_admission_to_ICU_discharge[[x.days > 0 for x in time_from_ICU_admission_to_ICU_discharge]]/pd.Timedelta(days=1)\n",
    "print('Mean +/- std ICU stay (n=' + str(len(valid_ICU_durations_complete)) + ' discharged patients): '+ str(np.mean(valid_ICU_durations_complete)) + ' days +/- ' + str(np.std(valid_ICU_durations_complete)) + ' days')\n",
    "\n"
   ]
  },
  {
   "cell_type": "markdown",
   "metadata": {},
   "source": [
    "\n",
    "3) Calculate time on ICU (with active and discharged patients)\n"
   ]
  },
  {
   "cell_type": "code",
   "execution_count": null,
   "metadata": {},
   "outputs": [],
   "source": []
  },
  {
   "cell_type": "code",
   "execution_count": null,
   "metadata": {},
   "outputs": [],
   "source": [
    "all_ICU_patients = pd.DataFrame([pd.to_datetime(study_data[x][has_admission_date and has_ICU_admission_date]) for x in study_data[['Admission_dt_icu_1','Discharge_dt_icu_1']]]).transpose()\n",
    "all_ICU_patients = all_ICU_patients.fillna(datetime.now())\n",
    "\n",
    "time_on_ICU = all_ICU_patients['Discharge_dt_icu_1']-all_ICU_patients['Admission_dt_icu_1']\n",
    "valid_ICU_durations_days = time_on_ICU[[x.days >= 0 for x in time_on_ICU]]/pd.Timedelta(days=1)\n",
    "\n",
    "# ignore ICU stays op < 0 days\n",
    "print('Mean +/- std ICU stay (n=' + str(len(valid_ICU_durations_days)) + ' discharged and nondischarged patients): '+ str(np.mean(valid_ICU_durations_days)) + ' +/- ' + str(np.std(valid_ICU_durations_days)))\n",
    "fig = plt.figure(figsize=[15, 4])\n",
    "\n",
    "ax1 = fig.add_subplot(131)\n",
    "sbn.distplot(valid_ICU_durations_days, hist=True, kde=False, rug=True, color='red')\n",
    "plt.xlabel(\"ICU Duration for discharged \\nand nondischarged patients [days]\");\n",
    "plt.title('$\\it{negative\\ ICU\\ Durations\\ are\\ ignored}$\\n'+\\\n",
    "          'both discharges and nondischarged patients');\n",
    "\n",
    "ax2 = fig.add_subplot(133)\n",
    "sbn.distplot(valid_ICU_durations_complete, hist=True, kde=False, rug=True, color='red')\n",
    "plt.xlabel(\"ICU Duration for discharged\\n patients only [days]\");\n",
    "plt.title('$\\it{negative\\ ICU\\ Durations\\ are\\ ignored}$\\n'+\\\n",
    "          'discharged patients only');\n",
    "\n",
    "ax2.set_xlim(ax1.get_xlim())\n",
    "ax2.set_ylim(ax1.get_ylim())"
   ]
  },
  {
   "cell_type": "markdown",
   "metadata": {},
   "source": [
    "## Outcome so far\n",
    "1) Alle van de ICU ontslagen (discharged) patienten\n",
    "\n",
    "2) Outcome van alle ontslagen patienten\n"
   ]
  },
  {
   "cell_type": "code",
   "execution_count": null,
   "metadata": {},
   "outputs": [],
   "source": [
    "def namevaluedict(fieldname):\n",
    "    answeroptions = pd.pivot_table(optiongroups_struct,index='Option Group Id',values=['Option Name','Option Value'],aggfunc=lambda x:list(x))\n",
    "    selected = study_struct['Field Option Group'][study_struct['Field Variable Name']==fieldname]\n",
    "    match = answeroptions.index.isin(study_struct['Field Option Group'][study_struct['Field Variable Name']==fieldname])\n",
    "    answeroptions = answeroptions[match]\n",
    "    return [str(i) for i in answeroptions['Option Value'][0]],answeroptions['Option Name'][0]\n",
    "\n",
    "discharge_code_all = study_data['Outcome'][[not i for i in has_ICU_admission_date] and has_admission_date]\n",
    "n,v = namevaluedict('Outcome')\n",
    "discharge_names = discharge_code_all.replace(to_replace=n, value=v).replace(to_replace='0',value='status 0; not filled in?')\n",
    "discharge_names_un =  discharge_names.unique()\n",
    "discharge_counts = [sum(discharge_names == d) for d in discharge_names_un]\n",
    "\n",
    "fig = plt.figure(figsize=[12, 6])\n",
    "\n",
    "ax1 = fig.add_subplot(131)\n",
    "ax1.pie(discharge_counts, labels=discharge_names_un, autopct='%1.1f%%',\n",
    "        shadow=True, startangle=135)\n",
    "ax1.axis('equal')  # Equal aspect ratio ensures that pie is drawn as a circle.\n",
    "plt.title('Distribution of all \\'Outcome\\' \\n without ICU admission (n='+str(len(discharge_code_all))+')')\n",
    "\n",
    "\n",
    "discharge_code_ICUonly = study_data['Outcome'][has_ICU_admission_date]\n",
    "discharge_names = discharge_code_ICUonly.replace(to_replace=n, value=v).replace(to_replace='0',value='status 0; not filled in?')\n",
    "discharge_names_un =  discharge_names.unique()\n",
    "discharge_counts = [sum(discharge_names == d) for d in discharge_names_un]\n",
    "\n",
    "ax2 = fig.add_subplot(133)\n",
    "ax2.pie(discharge_counts, labels=discharge_names_un, autopct='%1.1f%%',\n",
    "        shadow=True, startangle=135)\n",
    "ax2.axis('equal')  # Equal aspect ratio ensures that pie is drawn as a circle.\n",
    "plt.title('Distribution of all \\'Outcome\\' \\nfields with ICU admission (n='+str(len(discharge_code_ICUonly))+')')\n",
    "plt.show()"
   ]
  },
  {
   "cell_type": "code",
   "execution_count": null,
   "metadata": {},
   "outputs": [],
   "source": [
    "\n"
   ]
  },
  {
   "cell_type": "code",
   "execution_count": null,
   "metadata": {},
   "outputs": [],
   "source": [
    "# huidig aantal COVID patiënten in rest van ZH\n",
    "# kans van gemiddelde COVID zaal / MC patiënt naar IC moet < 24 uur. < 48 uur, < 72 uur \n",
    "# kans dat gemiddelde COVID zaal patiënt kan worden ontslagen < 24 uur. < 48 uur, < 72 uur \n",
    "# kans dat gemiddelde IC patiënt nog 24, 48 en 72 uur op IC moet blijven \n",
    "# duur van gemiddelde zaal / MC opname\n",
    "# te verwachten gemiddelde resterende duur van zaal / MC opname \n",
    "# te verwachten gemiddelde resterende duur van IC opname\n",
    "# % aantal opgenomen patiënten met te verwachten goede outcome (naar huis), met te verwachten redelijke outcome (revalidatie), matige outcome (verpleegtehuis), slechte outcome (palliatie, overlijden)\n",
    "# code waarin staat hoe het met de capaciteit in ZH is obv voor Corona beschikbare bedden - groen oranje rood zwart\n",
    "# (aantal patiënten dat optimale behandeling krijgt - controversieel - niet in 1.0 versie"
   ]
  },
  {
   "cell_type": "code",
   "execution_count": null,
   "metadata": {},
   "outputs": [],
   "source": []
  }
 ],
 "metadata": {
  "kernelspec": {
   "display_name": "Python 3",
   "language": "python",
   "name": "python3"
  },
  "language_info": {
   "codemirror_mode": {
    "name": "ipython",
    "version": 3
   },
   "file_extension": ".py",
   "mimetype": "text/x-python",
   "name": "python",
   "nbconvert_exporter": "python",
   "pygments_lexer": "ipython3",
   "version": "3.7.5"
  }
 },
 "nbformat": 4,
 "nbformat_minor": 4
}
