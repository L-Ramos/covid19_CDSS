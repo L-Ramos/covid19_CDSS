{
 "cells": [
  {
   "cell_type": "markdown",
   "metadata": {},
   "source": [
    "This Jupyter worksheet is meant to give a quick overview on some statistics of all our patients, while also providing a clear statement on how this data was retrieved (with references to the fields within the Castor Forms)"
   ]
  },
  {
   "cell_type": "code",
   "execution_count": 54,
   "metadata": {},
   "outputs": [
    {
     "name": "stdout",
     "output_type": "stream",
     "text": [
      "                                    Study ID        Record ID Form Type  \\\n",
      "0       2B1B90BA-69B8-48F5-BF2E-640284CB8709           000001       NaN   \n",
      "1       2B1B90BA-69B8-48F5-BF2E-640284CB8709           000002       NaN   \n",
      "2       2B1B90BA-69B8-48F5-BF2E-640284CB8709           110001       NaN   \n",
      "3       2B1B90BA-69B8-48F5-BF2E-640284CB8709           110002       NaN   \n",
      "4       2B1B90BA-69B8-48F5-BF2E-640284CB8709           110003       NaN   \n",
      "...                                      ...              ...       ...   \n",
      "158433  2B1B90BA-69B8-48F5-BF2E-640284CB8709  ARCHIVED-120088    Report   \n",
      "158434  2B1B90BA-69B8-48F5-BF2E-640284CB8709  ARCHIVED-120088    Report   \n",
      "158435  2B1B90BA-69B8-48F5-BF2E-640284CB8709  ARCHIVED-120088    Report   \n",
      "158436  2B1B90BA-69B8-48F5-BF2E-640284CB8709  ARCHIVED-120088    Report   \n",
      "158437  2B1B90BA-69B8-48F5-BF2E-640284CB8709  ARCHIVED-120088    Report   \n",
      "\n",
      "                            Form Instance ID  \\\n",
      "0                                        NaN   \n",
      "1                                        NaN   \n",
      "2                                        NaN   \n",
      "3                                        NaN   \n",
      "4                                        NaN   \n",
      "...                                      ...   \n",
      "158433  20E29CD3-B847-4515-9FB2-43139BEB680A   \n",
      "158434  20E29CD3-B847-4515-9FB2-43139BEB680A   \n",
      "158435  20E29CD3-B847-4515-9FB2-43139BEB680A   \n",
      "158436  20E29CD3-B847-4515-9FB2-43139BEB680A   \n",
      "158437  20E29CD3-B847-4515-9FB2-43139BEB680A   \n",
      "\n",
      "                                  Form Instance Name  \\\n",
      "0                                                NaN   \n",
      "1                                                NaN   \n",
      "2                                                NaN   \n",
      "3                                                NaN   \n",
      "4                                                NaN   \n",
      "...                                              ...   \n",
      "158433  Daily case record form - 20-03-2020 12:02:41   \n",
      "158434  Daily case record form - 20-03-2020 12:02:41   \n",
      "158435  Daily case record form - 20-03-2020 12:02:41   \n",
      "158436  Daily case record form - 20-03-2020 12:02:41   \n",
      "158437  Daily case record form - 20-03-2020 12:02:41   \n",
      "\n",
      "                                    Field ID Value                 Date  \\\n",
      "0                                        NaN   NaN                  NaN   \n",
      "1                                        NaN   NaN                  NaN   \n",
      "2                                        NaN   NaN                  NaN   \n",
      "3                                        NaN   NaN                  NaN   \n",
      "4                                        NaN   NaN                  NaN   \n",
      "...                                      ...   ...                  ...   \n",
      "158433  F15C8EB2-2E38-4CDC-99FC-4C2DB0026449     2  2020-03-26 11:06:41   \n",
      "158434  F52861E6-2E8C-47A0-98B7-4BF88DB3CA57    11  2020-03-26 11:06:40   \n",
      "158435  FA052F0E-BE81-4444-8B6D-3D3597186949   394  2020-03-26 11:08:12   \n",
      "158436  FF81B837-92AA-4772-B66C-0C1EE3360228     1  2020-03-26 11:07:57   \n",
      "158437  FF9533A1-4D25-4074-BBEF-9DB8D231BCA2     1  2020-03-26 11:08:04   \n",
      "\n",
      "                                     User ID  \n",
      "0       11AA4EBE-4D84-467C-827E-F541399BFC91  \n",
      "1       EF03698E-868E-3DA5-AD1A-D42CDEDDB483  \n",
      "2       ED62362A-9F7C-1DB8-5BA8-DD4CEDA1D7FA  \n",
      "3       1E6220EB-0809-4109-BBA0-4AD4285964A3  \n",
      "4       1D6E0C53-A58F-492F-9030-2EDDFE4E2CFE  \n",
      "...                                      ...  \n",
      "158433  6481EFED-6357-4937-B8A1-37C2874150FD  \n",
      "158434  6481EFED-6357-4937-B8A1-37C2874150FD  \n",
      "158435  6481EFED-6357-4937-B8A1-37C2874150FD  \n",
      "158436  6481EFED-6357-4937-B8A1-37C2874150FD  \n",
      "158437  6481EFED-6357-4937-B8A1-37C2874150FD  \n",
      "\n",
      "[158438 rows x 9 columns]\n"
     ]
    },
    {
     "ename": "ValueError",
     "evalue": "invalid literal for int() with base 10: 'Missing (not asked)'",
     "output_type": "error",
     "traceback": [
      "\u001b[0;31m---------------------------------------------------------------------------\u001b[0m",
      "\u001b[0;31mValueError\u001b[0m                                Traceback (most recent call last)",
      "\u001b[0;32m<ipython-input-54-238f4e9e076f>\u001b[0m in \u001b[0;36m<module>\u001b[0;34m\u001b[0m\n\u001b[1;32m      8\u001b[0m \u001b[0;32mimport\u001b[0m \u001b[0mmatplotlib\u001b[0m\u001b[0;34m.\u001b[0m\u001b[0mlines\u001b[0m\u001b[0;34m\u001b[0m\u001b[0;34m\u001b[0m\u001b[0m\n\u001b[1;32m      9\u001b[0m \u001b[0;34m\u001b[0m\u001b[0m\n\u001b[0;32m---> 10\u001b[0;31m \u001b[0;32mfrom\u001b[0m \u001b[0mcovid19_ICU_admission\u001b[0m \u001b[0;32mimport\u001b[0m \u001b[0mload_data_api\u001b[0m\u001b[0;34m,\u001b[0m \u001b[0mfix_single_errors\u001b[0m\u001b[0;34m,\u001b[0m \u001b[0mmerge_study_and_report\u001b[0m\u001b[0;34m,\u001b[0m \u001b[0mcalculate_outcome_measure\u001b[0m\u001b[0;34m,\u001b[0m \u001b[0mselect_baseline_data\u001b[0m\u001b[0;34m\u001b[0m\u001b[0;34m\u001b[0m\u001b[0m\n\u001b[0m",
      "\u001b[0;32m~/Documents/Repositories/covid19_CDSS/covid19_ICU_admission.py\u001b[0m in \u001b[0;36m<module>\u001b[0;34m\u001b[0m\n\u001b[1;32m    248\u001b[0m \u001b[0;34m\u001b[0m\u001b[0m\n\u001b[1;32m    249\u001b[0m \u001b[0mx\u001b[0m\u001b[0;34m,\u001b[0m \u001b[0my\u001b[0m\u001b[0;34m,\u001b[0m \u001b[0mcol_dict\u001b[0m\u001b[0;34m,\u001b[0m \u001b[0mfield_types\u001b[0m \u001b[0;34m=\u001b[0m \u001b[0mload_data\u001b[0m\u001b[0;34m(\u001b[0m\u001b[0mfrom_file\u001b[0m\u001b[0;34m=\u001b[0m\u001b[0;32mFalse\u001b[0m\u001b[0;34m,\u001b[0m \u001b[0mpath_creds\u001b[0m\u001b[0;34m=\u001b[0m\u001b[0mpath_creds\u001b[0m\u001b[0;34m)\u001b[0m\u001b[0;34m\u001b[0m\u001b[0;34m\u001b[0m\u001b[0m\n\u001b[0;32m--> 250\u001b[0;31m \u001b[0mx\u001b[0m \u001b[0;34m=\u001b[0m \u001b[0mpreprocess\u001b[0m\u001b[0;34m(\u001b[0m\u001b[0mx\u001b[0m\u001b[0;34m,\u001b[0m \u001b[0mcol_dict\u001b[0m\u001b[0;34m,\u001b[0m \u001b[0mfield_types\u001b[0m\u001b[0;34m)\u001b[0m\u001b[0;34m\u001b[0m\u001b[0;34m\u001b[0m\u001b[0m\n\u001b[0m\u001b[1;32m    251\u001b[0m \u001b[0mx\u001b[0m \u001b[0;34m=\u001b[0m \u001b[0mfeature_selection\u001b[0m\u001b[0;34m(\u001b[0m\u001b[0mx\u001b[0m\u001b[0;34m,\u001b[0m \u001b[0mcol_dict\u001b[0m\u001b[0;34m,\u001b[0m \u001b[0mfield_types\u001b[0m\u001b[0;34m)\u001b[0m\u001b[0;34m\u001b[0m\u001b[0;34m\u001b[0m\u001b[0m\n\u001b[1;32m    252\u001b[0m \u001b[0;34m\u001b[0m\u001b[0m\n",
      "\u001b[0;32m~/Documents/Repositories/covid19_CDSS/covid19_ICU_admission.py\u001b[0m in \u001b[0;36mpreprocess\u001b[0;34m(data, col_dict, field_types)\u001b[0m\n\u001b[1;32m    124\u001b[0m     \u001b[0;31m# Binary features --> Most radio button fields\u001b[0m\u001b[0;34m\u001b[0m\u001b[0;34m\u001b[0m\u001b[0;34m\u001b[0m\u001b[0m\n\u001b[1;32m    125\u001b[0m     \u001b[0mradio_fields\u001b[0m \u001b[0;34m=\u001b[0m \u001b[0mis_in_columns\u001b[0m\u001b[0;34m(\u001b[0m\u001b[0mfield_types\u001b[0m\u001b[0;34m[\u001b[0m\u001b[0;34m'Variable name'\u001b[0m\u001b[0;34m]\u001b[0m\u001b[0;34m[\u001b[0m\u001b[0mfield_types\u001b[0m\u001b[0;34m[\u001b[0m\u001b[0;34m'Field type'\u001b[0m\u001b[0;34m]\u001b[0m \u001b[0;34m==\u001b[0m \u001b[0;34m'radio'\u001b[0m\u001b[0;34m]\u001b[0m\u001b[0;34m.\u001b[0m\u001b[0mtolist\u001b[0m\u001b[0;34m(\u001b[0m\u001b[0;34m)\u001b[0m\u001b[0;34m)\u001b[0m\u001b[0;34m\u001b[0m\u001b[0;34m\u001b[0m\u001b[0m\n\u001b[0;32m--> 126\u001b[0;31m     \u001b[0mdata\u001b[0m\u001b[0;34m[\u001b[0m\u001b[0mradio_fields\u001b[0m\u001b[0;34m]\u001b[0m \u001b[0;34m=\u001b[0m \u001b[0mtransform_binary_features\u001b[0m\u001b[0;34m(\u001b[0m\u001b[0mdata\u001b[0m\u001b[0;34m[\u001b[0m\u001b[0mradio_fields\u001b[0m\u001b[0;34m]\u001b[0m\u001b[0;34m)\u001b[0m\u001b[0;34m\u001b[0m\u001b[0;34m\u001b[0m\u001b[0m\n\u001b[0m\u001b[1;32m    127\u001b[0m \u001b[0;34m\u001b[0m\u001b[0m\n\u001b[1;32m    128\u001b[0m     \u001b[0;31m# Categorical --> Some radio button fields, dropdown fields, checkbox fields\u001b[0m\u001b[0;34m\u001b[0m\u001b[0;34m\u001b[0m\u001b[0;34m\u001b[0m\u001b[0m\n",
      "\u001b[0;32m~/Documents/Repositories/covid19_CDSS/covid19_ICU_util.py\u001b[0m in \u001b[0;36mtransform_binary_features\u001b[0;34m(data)\u001b[0m\n\u001b[1;32m    244\u001b[0m \u001b[0;34m\u001b[0m\u001b[0m\n\u001b[1;32m    245\u001b[0m     \u001b[0mdf\u001b[0m\u001b[0;34m.\u001b[0m\u001b[0mloc\u001b[0m\u001b[0;34m[\u001b[0m\u001b[0;34m:\u001b[0m\u001b[0;34m,\u001b[0m \u001b[0mRADIO_Y_N_NA\u001b[0m \u001b[0;34m+\u001b[0m \u001b[0mRADIO_Y_N\u001b[0m\u001b[0;34m]\u001b[0m \u001b[0;34m=\u001b[0m \u001b[0mdf\u001b[0m\u001b[0;34m.\u001b[0m\u001b[0mloc\u001b[0m\u001b[0;34m[\u001b[0m\u001b[0;34m:\u001b[0m\u001b[0;34m,\u001b[0m \u001b[0mRADIO_Y_N_NA\u001b[0m \u001b[0;34m+\u001b[0m \u001b[0mRADIO_Y_N\u001b[0m\u001b[0;34m]\u001b[0m\u001b[0;31m \u001b[0m\u001b[0;31m\\\u001b[0m\u001b[0;34m\u001b[0m\u001b[0;34m\u001b[0m\u001b[0m\n\u001b[0;32m--> 246\u001b[0;31m                                             \u001b[0;34m.\u001b[0m\u001b[0mfillna\u001b[0m\u001b[0;34m(\u001b[0m\u001b[0;36m3\u001b[0m\u001b[0;34m)\u001b[0m\u001b[0;34m.\u001b[0m\u001b[0mastype\u001b[0m\u001b[0;34m(\u001b[0m\u001b[0mint\u001b[0m\u001b[0;34m)\u001b[0m\u001b[0;31m \u001b[0m\u001b[0;31m\\\u001b[0m\u001b[0;34m\u001b[0m\u001b[0;34m\u001b[0m\u001b[0m\n\u001b[0m\u001b[1;32m    247\u001b[0m                                             \u001b[0;34m.\u001b[0m\u001b[0mapplymap\u001b[0m\u001b[0;34m(\u001b[0m\u001b[0;32mlambda\u001b[0m \u001b[0mx\u001b[0m\u001b[0;34m:\u001b[0m \u001b[0mdict_y_n_na\u001b[0m\u001b[0;34m[\u001b[0m\u001b[0mx\u001b[0m\u001b[0;34m]\u001b[0m\u001b[0;34m)\u001b[0m\u001b[0;34m\u001b[0m\u001b[0;34m\u001b[0m\u001b[0m\n\u001b[1;32m    248\u001b[0m     \u001b[0mdf\u001b[0m\u001b[0;34m.\u001b[0m\u001b[0mloc\u001b[0m\u001b[0;34m[\u001b[0m\u001b[0;34m:\u001b[0m\u001b[0;34m,\u001b[0m \u001b[0mRADIO_YC_YP_N_NA\u001b[0m \u001b[0;34m+\u001b[0m \u001b[0mRADIO_YC_YP_N\u001b[0m\u001b[0;34m]\u001b[0m \u001b[0;34m=\u001b[0m \u001b[0mdf\u001b[0m\u001b[0;34m.\u001b[0m\u001b[0mloc\u001b[0m\u001b[0;34m[\u001b[0m\u001b[0;34m:\u001b[0m\u001b[0;34m,\u001b[0m \u001b[0mRADIO_YC_YP_N_NA\u001b[0m \u001b[0;34m+\u001b[0m \u001b[0mRADIO_YC_YP_N\u001b[0m\u001b[0;34m]\u001b[0m\u001b[0;31m \u001b[0m\u001b[0;31m\\\u001b[0m\u001b[0;34m\u001b[0m\u001b[0;34m\u001b[0m\u001b[0m\n",
      "\u001b[0;32m~/opt/anaconda3/lib/python3.7/site-packages/pandas/core/generic.py\u001b[0m in \u001b[0;36mastype\u001b[0;34m(self, dtype, copy, errors)\u001b[0m\n\u001b[1;32m   5696\u001b[0m         \u001b[0;32melse\u001b[0m\u001b[0;34m:\u001b[0m\u001b[0;34m\u001b[0m\u001b[0;34m\u001b[0m\u001b[0m\n\u001b[1;32m   5697\u001b[0m             \u001b[0;31m# else, only a single dtype is given\u001b[0m\u001b[0;34m\u001b[0m\u001b[0;34m\u001b[0m\u001b[0;34m\u001b[0m\u001b[0m\n\u001b[0;32m-> 5698\u001b[0;31m             \u001b[0mnew_data\u001b[0m \u001b[0;34m=\u001b[0m \u001b[0mself\u001b[0m\u001b[0;34m.\u001b[0m\u001b[0m_data\u001b[0m\u001b[0;34m.\u001b[0m\u001b[0mastype\u001b[0m\u001b[0;34m(\u001b[0m\u001b[0mdtype\u001b[0m\u001b[0;34m=\u001b[0m\u001b[0mdtype\u001b[0m\u001b[0;34m,\u001b[0m \u001b[0mcopy\u001b[0m\u001b[0;34m=\u001b[0m\u001b[0mcopy\u001b[0m\u001b[0;34m,\u001b[0m \u001b[0merrors\u001b[0m\u001b[0;34m=\u001b[0m\u001b[0merrors\u001b[0m\u001b[0;34m)\u001b[0m\u001b[0;34m\u001b[0m\u001b[0;34m\u001b[0m\u001b[0m\n\u001b[0m\u001b[1;32m   5699\u001b[0m             \u001b[0;32mreturn\u001b[0m \u001b[0mself\u001b[0m\u001b[0;34m.\u001b[0m\u001b[0m_constructor\u001b[0m\u001b[0;34m(\u001b[0m\u001b[0mnew_data\u001b[0m\u001b[0;34m)\u001b[0m\u001b[0;34m.\u001b[0m\u001b[0m__finalize__\u001b[0m\u001b[0;34m(\u001b[0m\u001b[0mself\u001b[0m\u001b[0;34m)\u001b[0m\u001b[0;34m\u001b[0m\u001b[0;34m\u001b[0m\u001b[0m\n\u001b[1;32m   5700\u001b[0m \u001b[0;34m\u001b[0m\u001b[0m\n",
      "\u001b[0;32m~/opt/anaconda3/lib/python3.7/site-packages/pandas/core/internals/managers.py\u001b[0m in \u001b[0;36mastype\u001b[0;34m(self, dtype, copy, errors)\u001b[0m\n\u001b[1;32m    580\u001b[0m \u001b[0;34m\u001b[0m\u001b[0m\n\u001b[1;32m    581\u001b[0m     \u001b[0;32mdef\u001b[0m \u001b[0mastype\u001b[0m\u001b[0;34m(\u001b[0m\u001b[0mself\u001b[0m\u001b[0;34m,\u001b[0m \u001b[0mdtype\u001b[0m\u001b[0;34m,\u001b[0m \u001b[0mcopy\u001b[0m\u001b[0;34m:\u001b[0m \u001b[0mbool\u001b[0m \u001b[0;34m=\u001b[0m \u001b[0;32mFalse\u001b[0m\u001b[0;34m,\u001b[0m \u001b[0merrors\u001b[0m\u001b[0;34m:\u001b[0m \u001b[0mstr\u001b[0m \u001b[0;34m=\u001b[0m \u001b[0;34m\"raise\"\u001b[0m\u001b[0;34m)\u001b[0m\u001b[0;34m:\u001b[0m\u001b[0;34m\u001b[0m\u001b[0;34m\u001b[0m\u001b[0m\n\u001b[0;32m--> 582\u001b[0;31m         \u001b[0;32mreturn\u001b[0m \u001b[0mself\u001b[0m\u001b[0;34m.\u001b[0m\u001b[0mapply\u001b[0m\u001b[0;34m(\u001b[0m\u001b[0;34m\"astype\"\u001b[0m\u001b[0;34m,\u001b[0m \u001b[0mdtype\u001b[0m\u001b[0;34m=\u001b[0m\u001b[0mdtype\u001b[0m\u001b[0;34m,\u001b[0m \u001b[0mcopy\u001b[0m\u001b[0;34m=\u001b[0m\u001b[0mcopy\u001b[0m\u001b[0;34m,\u001b[0m \u001b[0merrors\u001b[0m\u001b[0;34m=\u001b[0m\u001b[0merrors\u001b[0m\u001b[0;34m)\u001b[0m\u001b[0;34m\u001b[0m\u001b[0;34m\u001b[0m\u001b[0m\n\u001b[0m\u001b[1;32m    583\u001b[0m \u001b[0;34m\u001b[0m\u001b[0m\n\u001b[1;32m    584\u001b[0m     \u001b[0;32mdef\u001b[0m \u001b[0mconvert\u001b[0m\u001b[0;34m(\u001b[0m\u001b[0mself\u001b[0m\u001b[0;34m,\u001b[0m \u001b[0;34m**\u001b[0m\u001b[0mkwargs\u001b[0m\u001b[0;34m)\u001b[0m\u001b[0;34m:\u001b[0m\u001b[0;34m\u001b[0m\u001b[0;34m\u001b[0m\u001b[0m\n",
      "\u001b[0;32m~/opt/anaconda3/lib/python3.7/site-packages/pandas/core/internals/managers.py\u001b[0m in \u001b[0;36mapply\u001b[0;34m(self, f, filter, **kwargs)\u001b[0m\n\u001b[1;32m    440\u001b[0m                 \u001b[0mapplied\u001b[0m \u001b[0;34m=\u001b[0m \u001b[0mb\u001b[0m\u001b[0;34m.\u001b[0m\u001b[0mapply\u001b[0m\u001b[0;34m(\u001b[0m\u001b[0mf\u001b[0m\u001b[0;34m,\u001b[0m \u001b[0;34m**\u001b[0m\u001b[0mkwargs\u001b[0m\u001b[0;34m)\u001b[0m\u001b[0;34m\u001b[0m\u001b[0;34m\u001b[0m\u001b[0m\n\u001b[1;32m    441\u001b[0m             \u001b[0;32melse\u001b[0m\u001b[0;34m:\u001b[0m\u001b[0;34m\u001b[0m\u001b[0;34m\u001b[0m\u001b[0m\n\u001b[0;32m--> 442\u001b[0;31m                 \u001b[0mapplied\u001b[0m \u001b[0;34m=\u001b[0m \u001b[0mgetattr\u001b[0m\u001b[0;34m(\u001b[0m\u001b[0mb\u001b[0m\u001b[0;34m,\u001b[0m \u001b[0mf\u001b[0m\u001b[0;34m)\u001b[0m\u001b[0;34m(\u001b[0m\u001b[0;34m**\u001b[0m\u001b[0mkwargs\u001b[0m\u001b[0;34m)\u001b[0m\u001b[0;34m\u001b[0m\u001b[0;34m\u001b[0m\u001b[0m\n\u001b[0m\u001b[1;32m    443\u001b[0m             \u001b[0mresult_blocks\u001b[0m \u001b[0;34m=\u001b[0m \u001b[0m_extend_blocks\u001b[0m\u001b[0;34m(\u001b[0m\u001b[0mapplied\u001b[0m\u001b[0;34m,\u001b[0m \u001b[0mresult_blocks\u001b[0m\u001b[0;34m)\u001b[0m\u001b[0;34m\u001b[0m\u001b[0;34m\u001b[0m\u001b[0m\n\u001b[1;32m    444\u001b[0m \u001b[0;34m\u001b[0m\u001b[0m\n",
      "\u001b[0;32m~/opt/anaconda3/lib/python3.7/site-packages/pandas/core/internals/blocks.py\u001b[0m in \u001b[0;36mastype\u001b[0;34m(self, dtype, copy, errors)\u001b[0m\n\u001b[1;32m    623\u001b[0m             \u001b[0mvals1d\u001b[0m \u001b[0;34m=\u001b[0m \u001b[0mvalues\u001b[0m\u001b[0;34m.\u001b[0m\u001b[0mravel\u001b[0m\u001b[0;34m(\u001b[0m\u001b[0;34m)\u001b[0m\u001b[0;34m\u001b[0m\u001b[0;34m\u001b[0m\u001b[0m\n\u001b[1;32m    624\u001b[0m             \u001b[0;32mtry\u001b[0m\u001b[0;34m:\u001b[0m\u001b[0;34m\u001b[0m\u001b[0;34m\u001b[0m\u001b[0m\n\u001b[0;32m--> 625\u001b[0;31m                 \u001b[0mvalues\u001b[0m \u001b[0;34m=\u001b[0m \u001b[0mastype_nansafe\u001b[0m\u001b[0;34m(\u001b[0m\u001b[0mvals1d\u001b[0m\u001b[0;34m,\u001b[0m \u001b[0mdtype\u001b[0m\u001b[0;34m,\u001b[0m \u001b[0mcopy\u001b[0m\u001b[0;34m=\u001b[0m\u001b[0;32mTrue\u001b[0m\u001b[0;34m)\u001b[0m\u001b[0;34m\u001b[0m\u001b[0;34m\u001b[0m\u001b[0m\n\u001b[0m\u001b[1;32m    626\u001b[0m             \u001b[0;32mexcept\u001b[0m \u001b[0;34m(\u001b[0m\u001b[0mValueError\u001b[0m\u001b[0;34m,\u001b[0m \u001b[0mTypeError\u001b[0m\u001b[0;34m)\u001b[0m\u001b[0;34m:\u001b[0m\u001b[0;34m\u001b[0m\u001b[0;34m\u001b[0m\u001b[0m\n\u001b[1;32m    627\u001b[0m                 \u001b[0;31m# e.g. astype_nansafe can fail on object-dtype of strings\u001b[0m\u001b[0;34m\u001b[0m\u001b[0;34m\u001b[0m\u001b[0;34m\u001b[0m\u001b[0m\n",
      "\u001b[0;32m~/opt/anaconda3/lib/python3.7/site-packages/pandas/core/dtypes/cast.py\u001b[0m in \u001b[0;36mastype_nansafe\u001b[0;34m(arr, dtype, copy, skipna)\u001b[0m\n\u001b[1;32m    872\u001b[0m         \u001b[0;31m# work around NumPy brokenness, #1987\u001b[0m\u001b[0;34m\u001b[0m\u001b[0;34m\u001b[0m\u001b[0;34m\u001b[0m\u001b[0m\n\u001b[1;32m    873\u001b[0m         \u001b[0;32mif\u001b[0m \u001b[0mnp\u001b[0m\u001b[0;34m.\u001b[0m\u001b[0missubdtype\u001b[0m\u001b[0;34m(\u001b[0m\u001b[0mdtype\u001b[0m\u001b[0;34m.\u001b[0m\u001b[0mtype\u001b[0m\u001b[0;34m,\u001b[0m \u001b[0mnp\u001b[0m\u001b[0;34m.\u001b[0m\u001b[0minteger\u001b[0m\u001b[0;34m)\u001b[0m\u001b[0;34m:\u001b[0m\u001b[0;34m\u001b[0m\u001b[0;34m\u001b[0m\u001b[0m\n\u001b[0;32m--> 874\u001b[0;31m             \u001b[0;32mreturn\u001b[0m \u001b[0mlib\u001b[0m\u001b[0;34m.\u001b[0m\u001b[0mastype_intsafe\u001b[0m\u001b[0;34m(\u001b[0m\u001b[0marr\u001b[0m\u001b[0;34m.\u001b[0m\u001b[0mravel\u001b[0m\u001b[0;34m(\u001b[0m\u001b[0;34m)\u001b[0m\u001b[0;34m,\u001b[0m \u001b[0mdtype\u001b[0m\u001b[0;34m)\u001b[0m\u001b[0;34m.\u001b[0m\u001b[0mreshape\u001b[0m\u001b[0;34m(\u001b[0m\u001b[0marr\u001b[0m\u001b[0;34m.\u001b[0m\u001b[0mshape\u001b[0m\u001b[0;34m)\u001b[0m\u001b[0;34m\u001b[0m\u001b[0;34m\u001b[0m\u001b[0m\n\u001b[0m\u001b[1;32m    875\u001b[0m \u001b[0;34m\u001b[0m\u001b[0m\n\u001b[1;32m    876\u001b[0m         \u001b[0;31m# if we have a datetime/timedelta array of objects\u001b[0m\u001b[0;34m\u001b[0m\u001b[0;34m\u001b[0m\u001b[0;34m\u001b[0m\u001b[0m\n",
      "\u001b[0;32mpandas/_libs/lib.pyx\u001b[0m in \u001b[0;36mpandas._libs.lib.astype_intsafe\u001b[0;34m()\u001b[0m\n",
      "\u001b[0;31mValueError\u001b[0m: invalid literal for int() with base 10: 'Missing (not asked)'"
     ]
    }
   ],
   "source": [
    "# Import all requirements\n",
    "import covid19_import \n",
    "import pandas as pd, numpy as np, requests, seaborn as sbn, pickle\n",
    "from datetime import datetime\n",
    "\n",
    "import matplotlib.pyplot as plt\n",
    "import matplotlib.dates as mdates\n",
    "import matplotlib.lines\n",
    "\n",
    "from covid19_ICU_admission import load_data_api, fix_single_errors, merge_study_and_report, calculate_outcome_measure, select_baseline_data"
   ]
  },
  {
   "cell_type": "markdown",
   "metadata": {},
   "source": [
    "# Get all data from Castor database\n",
    "Note that you need export rights for every individual center."
   ]
  },
  {
   "cell_type": "code",
   "execution_count": 8,
   "metadata": {},
   "outputs": [],
   "source": [
    "path_to_creds = './castor_api_creds/'\n",
    "study_data,study_struct,reports_data,reports_struct,optiongroups_struct = covid19_import.import_data(path_to_creds)\n"
   ]
  },
  {
   "cell_type": "markdown",
   "metadata": {},
   "source": [
    "## Export all variables to excel"
   ]
  },
  {
   "cell_type": "code",
   "execution_count": 9,
   "metadata": {},
   "outputs": [
    {
     "ename": "ModuleNotFoundError",
     "evalue": "No module named 'xlsxwriter'",
     "output_type": "error",
     "traceback": [
      "\u001b[1;31m---------------------------------------------------------------------------\u001b[0m",
      "\u001b[1;31mModuleNotFoundError\u001b[0m                       Traceback (most recent call last)",
      "\u001b[1;32m<ipython-input-9-3cb811c8335a>\u001b[0m in \u001b[0;36m<module>\u001b[1;34m\u001b[0m\n\u001b[0;32m      1\u001b[0m \u001b[0mtarget_excel\u001b[0m \u001b[1;33m=\u001b[0m \u001b[1;34m'/Users/wouterpotters/Desktop/covid19_variables.xlsx'\u001b[0m\u001b[1;33m\u001b[0m\u001b[1;33m\u001b[0m\u001b[0m\n\u001b[1;32m----> 2\u001b[1;33m \u001b[0mwriter\u001b[0m \u001b[1;33m=\u001b[0m \u001b[0mpd\u001b[0m\u001b[1;33m.\u001b[0m\u001b[0mExcelWriter\u001b[0m\u001b[1;33m(\u001b[0m\u001b[0mtarget_excel\u001b[0m\u001b[1;33m,\u001b[0m \u001b[0mengine\u001b[0m\u001b[1;33m=\u001b[0m\u001b[1;34m'xlsxwriter'\u001b[0m\u001b[1;33m)\u001b[0m\u001b[1;33m\u001b[0m\u001b[1;33m\u001b[0m\u001b[0m\n\u001b[0m\u001b[0;32m      3\u001b[0m \u001b[1;33m\u001b[0m\u001b[0m\n\u001b[0;32m      4\u001b[0m \u001b[0mreadme\u001b[0m \u001b[1;33m=\u001b[0m \u001b[1;34m'This excel sheet contains an overview of the variables that are used in the Castor EDC database for the COVID 19 project. \\nThere are three tabs; \\n(1) Admission variables; to be entered once and updated incidentally. \\n(2) Daily reports are created once per day. \\n(3) Complications are filled in as they arise.'\u001b[0m\u001b[1;33m\u001b[0m\u001b[1;33m\u001b[0m\u001b[0m\n\u001b[0;32m      5\u001b[0m \u001b[0mreadme\u001b[0m \u001b[1;33m=\u001b[0m \u001b[0mpd\u001b[0m\u001b[1;33m.\u001b[0m\u001b[0mDataFrame\u001b[0m\u001b[1;33m(\u001b[0m\u001b[1;33m[\u001b[0m\u001b[0mx\u001b[0m \u001b[1;32mfor\u001b[0m \u001b[0mx\u001b[0m \u001b[1;32min\u001b[0m \u001b[0mreadme\u001b[0m\u001b[1;33m.\u001b[0m\u001b[0msplit\u001b[0m\u001b[1;33m(\u001b[0m\u001b[1;34m'\\n'\u001b[0m\u001b[1;33m)\u001b[0m\u001b[1;33m]\u001b[0m\u001b[1;33m)\u001b[0m\u001b[1;33m\u001b[0m\u001b[1;33m\u001b[0m\u001b[0m\n",
      "\u001b[1;32m~\\AppData\\Local\\Continuum\\anaconda3\\envs\\adbs\\lib\\site-packages\\pandas\\io\\excel\\_xlsxwriter.py\u001b[0m in \u001b[0;36m__init__\u001b[1;34m(self, path, engine, date_format, datetime_format, mode, **engine_kwargs)\u001b[0m\n\u001b[0;32m    172\u001b[0m     ):\n\u001b[0;32m    173\u001b[0m         \u001b[1;31m# Use the xlsxwriter module as the Excel writer.\u001b[0m\u001b[1;33m\u001b[0m\u001b[1;33m\u001b[0m\u001b[1;33m\u001b[0m\u001b[0m\n\u001b[1;32m--> 174\u001b[1;33m         \u001b[1;32mimport\u001b[0m \u001b[0mxlsxwriter\u001b[0m\u001b[1;33m\u001b[0m\u001b[1;33m\u001b[0m\u001b[0m\n\u001b[0m\u001b[0;32m    175\u001b[0m \u001b[1;33m\u001b[0m\u001b[0m\n\u001b[0;32m    176\u001b[0m         \u001b[1;32mif\u001b[0m \u001b[0mmode\u001b[0m \u001b[1;33m==\u001b[0m \u001b[1;34m\"a\"\u001b[0m\u001b[1;33m:\u001b[0m\u001b[1;33m\u001b[0m\u001b[1;33m\u001b[0m\u001b[0m\n",
      "\u001b[1;31mModuleNotFoundError\u001b[0m: No module named 'xlsxwriter'"
     ]
    }
   ],
   "source": [
    "target_excel = '/Users/wouterpotters/Desktop/covid19_variables.xlsx'\n",
    "writer = pd.ExcelWriter(target_excel, engine='xlsxwriter')\n",
    "\n",
    "readme = 'This excel sheet contains an overview of the variables that are used in the Castor EDC database for the COVID 19 project. \\nThere are three tabs; \\n(1) Admission variables; to be entered once and updated incidentally. \\n(2) Daily reports are created once per day. \\n(3) Complications are filled in as they arise.'\n",
    "readme = pd.DataFrame([x for x in readme.split('\\n')])\n",
    "\n",
    "# Write each dataframe to a different worksheet.\n",
    "readme.to_excel(writer, sheet_name='README',index=False)\n",
    "#study_struct.to_excel(writer, sheet_name='AdmissionVariables',index=False)\n",
    "#reports_struct.to_excel(writer, sheet_name='DailyUpdateVariables',index=False)\n",
    "optiongroups_struct.to_excel(writer, sheet_name='OptionGroups',index=False)\n",
    "\n",
    "# added answeroptions to the excel file\n",
    "answeroptions = pd.pivot_table(optiongroups_struct,index='Option Group Id',values=['Option Name','Option Value'],aggfunc=lambda x:list(x))\n",
    "answeroptions.rename(columns={'Option Name': 'Field Options Names','Option Value': 'Field Options Values'})\n",
    "study_struct_withoptions = pd.merge(study_struct,answeroptions,how='left',left_on='Field Option Group',right_on='Option Group Id')\n",
    "study_struct_withoptions.to_excel(writer, sheet_name='AdmissionVariables',index=False)\n",
    "\n",
    "reports_struct_withoptions = pd.merge(reports_struct,answeroptions,how='left',left_on='Field Option Group',right_on='Option Group Id')\n",
    "reports_struct_withoptions.to_excel(writer, sheet_name='DailyUpdateVariables',index=False)\n",
    "\n",
    "writer.save() # save excel file"
   ]
  },
  {
   "cell_type": "markdown",
   "metadata": {},
   "source": [
    "# Patient counts\n",
    "## Total number of patients"
   ]
  },
  {
   "cell_type": "code",

   "execution_count": null,
   "metadata": {
    "scrolled": true
   },
   "outputs": [],

   "source": [
    "print('Total number of patients (with any data) is: '+str(len(study_data)))\n",
    "\n",
    "# HOSPITAL ADMISSION\tONSET & ADMISSION\tadmission_dt\tAdmission date at this facility:\n",
    "has_admission_date = [x == False for x in study_data['admission_dt'].isna()]\n",
    "print('Total number of patients with admission date: '+str(len(study_data[has_admission_date])))\n",
    "\n",
    "# HOSPITAL ADMISSION\tONSET & ADMISSION\tfacility_transfer\tTransfer from other facility?\n",
    "# YES-facility is a study site\t1\n",
    "# YES-facility is not a study site\t2\n",
    "# No\t3\n",
    "# HOSPITAL ADMISSION\tONSET & ADMISSION\tadmission_facility_dt\tAdmission date at transfer facility\n",
    "is_transferred = [(x == '1' or x == '2') for x in study_data['facility_transfer']]\n",
    "has_transfer_admission_date = [x == False for x in study_data['admission_facility_dt'].isna()]\n",
    "print('  > Transferred from other center: '+str(len(study_data[is_transferred]))+' (original admission date available in '+str(len(study_data[has_transfer_admission_date]))+'/'+str(len(study_data[is_transferred]))+')')\n",
    "\n",
    "# TREATMENT\tTREATMENTS during admission\tAdmission_dt_icu_1\tAdmission date ICU\n",
    "has_ICU_admission_date = [x == False for x in study_data['Admission_dt_icu_1'].isna()]\n",
    "# TREATMENT\tTREATMENTS during admission\tDischarge_dt_icu_1\tDischarge date ICU\n",
    "print('  > ICU admissions: '+str(len(study_data[has_ICU_admission_date])))\n",
    "has_ICU_discharge_date = [x == False for x in study_data['Discharge_dt_icu_1'].isna()]\n",
    "print('  > Discharged ICU admissions: '+str(len(study_data[has_ICU_admission_date and has_ICU_discharge_date])))\n"
   ]
  },
  {
   "cell_type": "markdown",
   "metadata": {},
   "source": [
    "## Duration of hospital stay\n",
    "1) Select all patients that are admitted to the hospital AND were at the ICU at some point.\n",
    "\n"
   ]
  },
  {
   "cell_type": "code",
   "execution_count": null,
   "metadata": {},
   "outputs": [],
   "source": [
    "# HOSPITAL ADMISSION\tONSET & ADMISSION\tadmission_dt\tAdmission date at this facility:\n",
    "has_admission_date = [x == False for x in study_data['admission_dt'].isna()]\n",
    "\n",
    "has_outcome_date = [x == False for x in study_data['Outcome_dt'].isna()] # = discharge date\n",
    "\n",
    "# TREATMENT\tTREATMENTS during admission\tAdmission_dt_icu_1\tAdmission date ICU\n",
    "has_ICU_admission_date = [x == False for x in study_data['Admission_dt_icu_1'].isna()]\n",
    "\n",
    "# fix all 11-11-1111 dates to NaN\n",
    "study_data = study_data.replace(to_replace='11-11-1111', value=np.nan)"
   ]
  },
  {
   "cell_type": "markdown",
   "metadata": {},
   "source": [
    "2) Calculate time (in days) from admission to ICU admission\n",
    "\n"
   ]
  },
  {
   "cell_type": "code",

   "execution_count": null,
   "metadata": {},
   "outputs": [],
   "source": [
    "# convert string to dates\n",
    "patient_ICU_dates_admissions = pd.DataFrame([pd.to_datetime(study_data[x][has_admission_date and has_ICU_admission_date]) for x in study_data[['admission_dt','Admission_dt_icu_1']]]).transpose()\n",
    "patient_ICU_dates_discharge_ICU = pd.DataFrame([pd.to_datetime(study_data[x][has_admission_date and has_ICU_admission_date and has_ICU_discharge_date]) for x in study_data[['Admission_dt_icu_1','Discharge_dt_icu_1']]]).transpose()\n",
    "\n",
    "time_from_hospital_admission_to_ICU = patient_ICU_dates_admissions['Admission_dt_icu_1'] - patient_ICU_dates_admissions['admission_dt']\n",
    "time_from_ICU_admission_to_ICU_discharge = patient_ICU_dates_discharge_ICU['Discharge_dt_icu_1'] - patient_ICU_dates_discharge_ICU['Admission_dt_icu_1']\n",
    "\n",
    "print('These patients have a negative time difference between admission and ICU admission:')\n",
    "print(time_from_hospital_admission_to_ICU[[x.days < 0 for x in time_from_hospital_admission_to_ICU]])\n",
    "print()\n",
    "print('These patients have a negative time difference between ICU admission and ICU discharge:')\n",
    "print(time_from_ICU_admission_to_ICU_discharge[[x.days < 0 for x in time_from_ICU_admission_to_ICU_discharge]])\n",
    "print()\n",
    "\n",
    "\n",
    "\n",
    "# average stay on ICU\n",
    "valid_ICU_durations_complete = time_from_ICU_admission_to_ICU_discharge[[x.days > 0 for x in time_from_ICU_admission_to_ICU_discharge]]/pd.Timedelta(days=1)\n",
    "print('Mean +/- std ICU stay (n=' + str(len(valid_ICU_durations_complete)) + ' discharged patients): '+ str(np.mean(valid_ICU_durations_complete)) + ' days +/- ' + str(np.std(valid_ICU_durations_complete)) + ' days')\n",
    "\n"
   ]
  },
  {
   "cell_type": "markdown",
   "metadata": {},
   "source": [
    "\n",
    "3) Calculate time on ICU (with active and discharged patients)\n"
   ]
  },
  {
   "cell_type": "code",
   "execution_count": null,
   "metadata": {},
   "outputs": [],
   "source": []
  },
  {
   "cell_type": "code",
   "execution_count": 42,
   "metadata": {},
   "outputs": [
    {
     "name": "stdout",
     "output_type": "stream",
     "text": [
      "Mean +/- std ICU stay (n=67 discharged and nondischarged patients): 6.83 +/- 4.05 days.\n"
     ]
    },
    {
     "data": {
      "text/plain": [
       "(0.0, 19.95)"
      ]
     },
     "execution_count": 42,
     "metadata": {},
     "output_type": "execute_result"
    },
    {
     "data": {
      "image/png": "[encoded data removed]",
      "text/plain": [
       "<Figure size 1080x288 with 2 Axes>"
      ]
     },
     "metadata": {
      "needs_background": "light"
     },
     "output_type": "display_data"
    }
   ],
   "source": [
    "all_ICU_patients = pd.DataFrame([pd.to_datetime(study_data[x][has_admission_date and has_ICU_admission_date]) for x in study_data[['Admission_dt_icu_1','Discharge_dt_icu_1']]]).transpose()\n",
    "all_ICU_patients = all_ICU_patients.fillna(datetime.now())\n",
    "\n",
    "time_on_ICU = all_ICU_patients['Discharge_dt_icu_1']-all_ICU_patients['Admission_dt_icu_1']\n",
    "valid_ICU_durations_days = time_on_ICU[[x.days >= 0 for x in time_on_ICU]]/pd.Timedelta(days=1)\n",
    "\n",
    "# ignore ICU stays op < 0 days\n",
    "print('Mean +/- std ICU stay (n=' + str(len(valid_ICU_durations_days)) + ' discharged and nondischarged patients): '+ str(round(np.mean(valid_ICU_durations_days),2)) + ' +/- ' + str(round(np.std(valid_ICU_durations_days),2)) + ' days.')\n",
    "fig = plt.figure(figsize=[15, 4])\n",
    "\n",
    "ax1 = fig.add_subplot(131)\n",
    "sbn.distplot(valid_ICU_durations_days, hist=True, kde=False, rug=True, color='red')\n",
    "plt.xlabel(\"ICU Duration for discharged \\nand nondischarged patients [days]\");\n",
    "plt.title('$\\it{negative\\ ICU\\ Durations\\ are\\ ignored}$\\n'+\\\n",
    "          'both discharges and nondischarged patients');\n",
    "\n",
    "ax2 = fig.add_subplot(133)\n",
    "sbn.distplot(valid_ICU_durations_complete, hist=True, kde=False, rug=True, color='red')\n",
    "plt.xlabel(\"ICU Duration for discharged\\n patients only [days]\");\n",
    "plt.title('$\\it{negative\\ ICU\\ Durations\\ are\\ ignored}$\\n'+\\\n",
    "          'discharged patients only');\n",
    "\n",
    "ax2.set_xlim(ax1.get_xlim())\n",
    "ax2.set_ylim(ax1.get_ylim())"
   ]
  },
  {
   "cell_type": "markdown",
   "metadata": {},
   "source": [
    "## Outcome so far\n",
    "1) Alle van de ICU ontslagen (discharged) patienten\n",
    "\n",
    "2) Outcome van alle ontslagen patienten\n"
   ]
  },
  {
   "cell_type": "code",
   "execution_count": null,
   "metadata": {},
   "outputs": [],
   "source": [
    "def namevaluedict(fieldname):\n",
    "    answeroptions = pd.pivot_table(optiongroups_struct,index='Option Group Id',values=['Option Name','Option Value'],aggfunc=lambda x:list(x))\n",
    "    selected = study_struct['Field Option Group'][study_struct['Field Variable Name']==fieldname]\n",
    "    match = answeroptions.index.isin(study_struct['Field Option Group'][study_struct['Field Variable Name']==fieldname])\n",
    "    answeroptions = answeroptions[match]\n",
    "    return [str(i) for i in answeroptions['Option Value'][0]],answeroptions['Option Name'][0]\n",
    "\n",
    "discharge_code_all = study_data['Outcome'][(([not i for i in has_ICU_admission_date]) and has_admission_date)]\n",
    "n,v = namevaluedict('Outcome')\n",
    "discharge_names = discharge_code_all.replace(to_replace=n, value=v).replace(to_replace='0',value='status 0; not filled in?')\n",
    "discharge_names_un =  discharge_names.unique()\n",
    "discharge_counts = [sum(discharge_names == d) for d in discharge_names_un]\n",
    "\n",
    "fig = plt.figure(figsize=[12, 6])\n",
    "\n",
    "ax1 = fig.add_subplot(131)\n",
    "ax1.pie(discharge_counts, labels=discharge_names_un, autopct='%1.1f%%',\n",
    "        shadow=True, startangle=135)\n",
    "ax1.axis('equal')  # Equal aspect ratio ensures that pie is drawn as a circle.\n",
    "plt.title('Distribution of all \\'Outcome\\' \\n without ICU admission (n='+str(len(discharge_code_all))+')')\n",
    "discharge_code_ICUonly = study_data['Outcome'][has_ICU_admission_date]\n",
    "discharge_names = discharge_code_ICUonly.replace(to_replace=n, value=v).replace(to_replace='0',value='status 0; not filled in?')\n",
    "discharge_names_un =  discharge_names.unique()\n",
    "discharge_counts = [sum(discharge_names == d) for d in discharge_names_un]\n",
    "\n",
    "ax2 = fig.add_subplot(133)\n",
    "ax2.pie(discharge_counts, labels=discharge_names_un, autopct='%1.1f%%',\n",
    "        shadow=True, startangle=135)\n",
    "ax2.axis('equal')  # Equal aspect ratio ensures that pie is drawn as a circle.\n",
    "plt.title('Distribution of all \\'Outcome\\' \\nfields with ICU admission (n='+str(len(discharge_code_ICUonly))+')')\n",
    "plt.show()"
   ]
  },
  {
   "cell_type": "markdown",
   "metadata": {},
   "source": [
    "## Individual variable distribution\n",
    "Code by: Willem Bruin\n"
   ]
  },
  {
   "cell_type": "code",
   "execution_count": 49,
   "metadata": {},
   "outputs": [
    {
     "data": {
      "image/png": "[encoded data removed]",
      "text/plain": [
       "<Figure size 432x432 with 3 Axes>"
      ]
     },
     "metadata": {
      "needs_background": "light"
     },
     "output_type": "display_data"
    }
   ],
   "source": [
    "# Calculate age in years\n",
    "age_in_years = (datetime.now().year - \\\n",
    "                pd.DatetimeIndex(study_data[has_admission_date and has_ICU_admission_date]['age']).year)\n",
    "\n",
    "valid_age = age_in_years[[x.days >= 0 for x in time_on_ICU]] # Skip patients with negative ICU Duration\n",
    "\n",
    "data = pd.DataFrame(data=np.array([valid_ICU_durations_days, valid_age]).T, columns=['ICU Duration (days)', 'Age (Years)'])\n",
    "\n",
    "fig = sbn.jointplot(data=data, x=\"ICU Duration (days)\", y=\"Age (Years)\")\n",
    "\n",
    "# Save to pdf\n",
    "# figure_dir = 'C:\\\\Users\\\\AMC\\\\Desktop\\\\\\WouterP\\\\covid19_CDSS\\\\Figures\\\\'\n",
    "# fig.savefig(osp.join(figure_dir, 'JointPlot_Age_Duration' + datetime.today().strftime(\"_%d_%m_%Y\") + '.pdf')) "
   ]
  },
  {
   "cell_type": "markdown",
   "metadata": {},
   "source": [
    "# All variables"
   ]
  },
  {
   "cell_type": "code",
   "execution_count": 53,
   "metadata": {},
   "outputs": [
    {
     "ename": "OutOfBoundsDatetime",
     "evalue": "Out of bounds nanosecond timestamp: 2939-09-14 00:00:00",
     "output_type": "error",
     "traceback": [
      "\u001b[0;31m---------------------------------------------------------------------------\u001b[0m",
      "\u001b[0;31mTypeError\u001b[0m                                 Traceback (most recent call last)",
      "\u001b[0;32m~/opt/anaconda3/lib/python3.7/site-packages/pandas/core/arrays/datetimes.py\u001b[0m in \u001b[0;36mobjects_to_datetime64ns\u001b[0;34m(data, dayfirst, yearfirst, utc, errors, require_iso8601, allow_object)\u001b[0m\n\u001b[1;32m   1857\u001b[0m         \u001b[0;32mtry\u001b[0m\u001b[0;34m:\u001b[0m\u001b[0;34m\u001b[0m\u001b[0;34m\u001b[0m\u001b[0m\n\u001b[0;32m-> 1858\u001b[0;31m             \u001b[0mvalues\u001b[0m\u001b[0;34m,\u001b[0m \u001b[0mtz_parsed\u001b[0m \u001b[0;34m=\u001b[0m \u001b[0mconversion\u001b[0m\u001b[0;34m.\u001b[0m\u001b[0mdatetime_to_datetime64\u001b[0m\u001b[0;34m(\u001b[0m\u001b[0mdata\u001b[0m\u001b[0;34m)\u001b[0m\u001b[0;34m\u001b[0m\u001b[0;34m\u001b[0m\u001b[0m\n\u001b[0m\u001b[1;32m   1859\u001b[0m             \u001b[0;31m# If tzaware, these values represent unix timestamps, so we\u001b[0m\u001b[0;34m\u001b[0m\u001b[0;34m\u001b[0m\u001b[0;34m\u001b[0m\u001b[0m\n",
      "\u001b[0;32mpandas/_libs/tslibs/conversion.pyx\u001b[0m in \u001b[0;36mpandas._libs.tslibs.conversion.datetime_to_datetime64\u001b[0;34m()\u001b[0m\n",
      "\u001b[0;31mTypeError\u001b[0m: Unrecognized value type: <class 'str'>",
      "\nDuring handling of the above exception, another exception occurred:\n",
      "\u001b[0;31mOutOfBoundsDatetime\u001b[0m                       Traceback (most recent call last)",
      "\u001b[0;32m<ipython-input-53-a004cff14b1c>\u001b[0m in \u001b[0;36m<module>\u001b[0;34m\u001b[0m\n\u001b[1;32m      3\u001b[0m \u001b[0;31m# add in age in years\u001b[0m\u001b[0;34m\u001b[0m\u001b[0;34m\u001b[0m\u001b[0;34m\u001b[0m\u001b[0m\n\u001b[1;32m      4\u001b[0m df['age_in_years'] = (datetime.now().year - \\\n\u001b[0;32m----> 5\u001b[0;31m                      pd.DatetimeIndex(df['age']).year)\n\u001b[0m\u001b[1;32m      6\u001b[0m \u001b[0;34m\u001b[0m\u001b[0m\n\u001b[1;32m      7\u001b[0m \u001b[0mVARS_OF_INTEREST\u001b[0m \u001b[0;34m=\u001b[0m \u001b[0mnp\u001b[0m\u001b[0;34m.\u001b[0m\u001b[0mappend\u001b[0m\u001b[0;34m(\u001b[0m\u001b[0;34m'age_in_years'\u001b[0m\u001b[0;34m,\u001b[0m \u001b[0mVARS_OF_INTEREST\u001b[0m\u001b[0;34m)\u001b[0m\u001b[0;34m\u001b[0m\u001b[0;34m\u001b[0m\u001b[0m\n",
      "\u001b[0;32m~/opt/anaconda3/lib/python3.7/site-packages/pandas/core/indexes/datetimes.py\u001b[0m in \u001b[0;36m__new__\u001b[0;34m(cls, data, freq, tz, normalize, closed, ambiguous, dayfirst, yearfirst, dtype, copy, name)\u001b[0m\n\u001b[1;32m    251\u001b[0m             \u001b[0mdayfirst\u001b[0m\u001b[0;34m=\u001b[0m\u001b[0mdayfirst\u001b[0m\u001b[0;34m,\u001b[0m\u001b[0;34m\u001b[0m\u001b[0;34m\u001b[0m\u001b[0m\n\u001b[1;32m    252\u001b[0m             \u001b[0myearfirst\u001b[0m\u001b[0;34m=\u001b[0m\u001b[0myearfirst\u001b[0m\u001b[0;34m,\u001b[0m\u001b[0;34m\u001b[0m\u001b[0;34m\u001b[0m\u001b[0m\n\u001b[0;32m--> 253\u001b[0;31m             \u001b[0mambiguous\u001b[0m\u001b[0;34m=\u001b[0m\u001b[0mambiguous\u001b[0m\u001b[0;34m,\u001b[0m\u001b[0;34m\u001b[0m\u001b[0;34m\u001b[0m\u001b[0m\n\u001b[0m\u001b[1;32m    254\u001b[0m         )\n\u001b[1;32m    255\u001b[0m \u001b[0;34m\u001b[0m\u001b[0m\n",
      "\u001b[0;32m~/opt/anaconda3/lib/python3.7/site-packages/pandas/core/arrays/datetimes.py\u001b[0m in \u001b[0;36m_from_sequence\u001b[0;34m(cls, data, dtype, copy, tz, freq, dayfirst, yearfirst, ambiguous)\u001b[0m\n\u001b[1;32m    318\u001b[0m             \u001b[0mdayfirst\u001b[0m\u001b[0;34m=\u001b[0m\u001b[0mdayfirst\u001b[0m\u001b[0;34m,\u001b[0m\u001b[0;34m\u001b[0m\u001b[0;34m\u001b[0m\u001b[0m\n\u001b[1;32m    319\u001b[0m             \u001b[0myearfirst\u001b[0m\u001b[0;34m=\u001b[0m\u001b[0myearfirst\u001b[0m\u001b[0;34m,\u001b[0m\u001b[0;34m\u001b[0m\u001b[0;34m\u001b[0m\u001b[0m\n\u001b[0;32m--> 320\u001b[0;31m             \u001b[0mambiguous\u001b[0m\u001b[0;34m=\u001b[0m\u001b[0mambiguous\u001b[0m\u001b[0;34m,\u001b[0m\u001b[0;34m\u001b[0m\u001b[0;34m\u001b[0m\u001b[0m\n\u001b[0m\u001b[1;32m    321\u001b[0m         )\n\u001b[1;32m    322\u001b[0m \u001b[0;34m\u001b[0m\u001b[0m\n",
      "\u001b[0;32m~/opt/anaconda3/lib/python3.7/site-packages/pandas/core/arrays/datetimes.py\u001b[0m in \u001b[0;36msequence_to_dt64ns\u001b[0;34m(data, dtype, copy, tz, dayfirst, yearfirst, ambiguous)\u001b[0m\n\u001b[1;32m   1753\u001b[0m             \u001b[0;31m#  or M8[ns] to denote wall times\u001b[0m\u001b[0;34m\u001b[0m\u001b[0;34m\u001b[0m\u001b[0;34m\u001b[0m\u001b[0m\n\u001b[1;32m   1754\u001b[0m             data, inferred_tz = objects_to_datetime64ns(\n\u001b[0;32m-> 1755\u001b[0;31m                 \u001b[0mdata\u001b[0m\u001b[0;34m,\u001b[0m \u001b[0mdayfirst\u001b[0m\u001b[0;34m=\u001b[0m\u001b[0mdayfirst\u001b[0m\u001b[0;34m,\u001b[0m \u001b[0myearfirst\u001b[0m\u001b[0;34m=\u001b[0m\u001b[0myearfirst\u001b[0m\u001b[0;34m\u001b[0m\u001b[0;34m\u001b[0m\u001b[0m\n\u001b[0m\u001b[1;32m   1756\u001b[0m             )\n\u001b[1;32m   1757\u001b[0m             \u001b[0mtz\u001b[0m \u001b[0;34m=\u001b[0m \u001b[0mmaybe_infer_tz\u001b[0m\u001b[0;34m(\u001b[0m\u001b[0mtz\u001b[0m\u001b[0;34m,\u001b[0m \u001b[0minferred_tz\u001b[0m\u001b[0;34m)\u001b[0m\u001b[0;34m\u001b[0m\u001b[0;34m\u001b[0m\u001b[0m\n",
      "\u001b[0;32m~/opt/anaconda3/lib/python3.7/site-packages/pandas/core/arrays/datetimes.py\u001b[0m in \u001b[0;36mobjects_to_datetime64ns\u001b[0;34m(data, dayfirst, yearfirst, utc, errors, require_iso8601, allow_object)\u001b[0m\n\u001b[1;32m   1861\u001b[0m             \u001b[0;32mreturn\u001b[0m \u001b[0mvalues\u001b[0m\u001b[0;34m.\u001b[0m\u001b[0mview\u001b[0m\u001b[0;34m(\u001b[0m\u001b[0;34m\"i8\"\u001b[0m\u001b[0;34m)\u001b[0m\u001b[0;34m,\u001b[0m \u001b[0mtz_parsed\u001b[0m\u001b[0;34m\u001b[0m\u001b[0;34m\u001b[0m\u001b[0m\n\u001b[1;32m   1862\u001b[0m         \u001b[0;32mexcept\u001b[0m \u001b[0;34m(\u001b[0m\u001b[0mValueError\u001b[0m\u001b[0;34m,\u001b[0m \u001b[0mTypeError\u001b[0m\u001b[0;34m)\u001b[0m\u001b[0;34m:\u001b[0m\u001b[0;34m\u001b[0m\u001b[0;34m\u001b[0m\u001b[0m\n\u001b[0;32m-> 1863\u001b[0;31m             \u001b[0;32mraise\u001b[0m \u001b[0me\u001b[0m\u001b[0;34m\u001b[0m\u001b[0;34m\u001b[0m\u001b[0m\n\u001b[0m\u001b[1;32m   1864\u001b[0m \u001b[0;34m\u001b[0m\u001b[0m\n\u001b[1;32m   1865\u001b[0m     \u001b[0;32mif\u001b[0m \u001b[0mtz_parsed\u001b[0m \u001b[0;32mis\u001b[0m \u001b[0;32mnot\u001b[0m \u001b[0;32mNone\u001b[0m\u001b[0;34m:\u001b[0m\u001b[0;34m\u001b[0m\u001b[0;34m\u001b[0m\u001b[0m\n",
      "\u001b[0;32m~/opt/anaconda3/lib/python3.7/site-packages/pandas/core/arrays/datetimes.py\u001b[0m in \u001b[0;36mobjects_to_datetime64ns\u001b[0;34m(data, dayfirst, yearfirst, utc, errors, require_iso8601, allow_object)\u001b[0m\n\u001b[1;32m   1852\u001b[0m             \u001b[0mdayfirst\u001b[0m\u001b[0;34m=\u001b[0m\u001b[0mdayfirst\u001b[0m\u001b[0;34m,\u001b[0m\u001b[0;34m\u001b[0m\u001b[0;34m\u001b[0m\u001b[0m\n\u001b[1;32m   1853\u001b[0m             \u001b[0myearfirst\u001b[0m\u001b[0;34m=\u001b[0m\u001b[0myearfirst\u001b[0m\u001b[0;34m,\u001b[0m\u001b[0;34m\u001b[0m\u001b[0;34m\u001b[0m\u001b[0m\n\u001b[0;32m-> 1854\u001b[0;31m             \u001b[0mrequire_iso8601\u001b[0m\u001b[0;34m=\u001b[0m\u001b[0mrequire_iso8601\u001b[0m\u001b[0;34m,\u001b[0m\u001b[0;34m\u001b[0m\u001b[0;34m\u001b[0m\u001b[0m\n\u001b[0m\u001b[1;32m   1855\u001b[0m         )\n\u001b[1;32m   1856\u001b[0m     \u001b[0;32mexcept\u001b[0m \u001b[0mValueError\u001b[0m \u001b[0;32mas\u001b[0m \u001b[0me\u001b[0m\u001b[0;34m:\u001b[0m\u001b[0;34m\u001b[0m\u001b[0;34m\u001b[0m\u001b[0m\n",
      "\u001b[0;32mpandas/_libs/tslib.pyx\u001b[0m in \u001b[0;36mpandas._libs.tslib.array_to_datetime\u001b[0;34m()\u001b[0m\n",
      "\u001b[0;32mpandas/_libs/tslib.pyx\u001b[0m in \u001b[0;36mpandas._libs.tslib.array_to_datetime\u001b[0;34m()\u001b[0m\n",
      "\u001b[0;32mpandas/_libs/tslib.pyx\u001b[0m in \u001b[0;36mpandas._libs.tslib.array_to_datetime\u001b[0;34m()\u001b[0m\n",
      "\u001b[0;32mpandas/_libs/tslib.pyx\u001b[0m in \u001b[0;36mpandas._libs.tslib.array_to_datetime\u001b[0;34m()\u001b[0m\n",
      "\u001b[0;32mpandas/_libs/tslibs/conversion.pyx\u001b[0m in \u001b[0;36mpandas._libs.tslibs.conversion.convert_datetime_to_tsobject\u001b[0;34m()\u001b[0m\n",
      "\u001b[0;32mpandas/_libs/tslibs/np_datetime.pyx\u001b[0m in \u001b[0;36mpandas._libs.tslibs.np_datetime.check_dts_bounds\u001b[0;34m()\u001b[0m\n",
      "\u001b[0;31mOutOfBoundsDatetime\u001b[0m: Out of bounds nanosecond timestamp: 2939-09-14 00:00:00"
     ]
    }
   ],
   "source": [
    "VARS_OF_INTEREST = study_data.columns\n",
    "df = study_data\n",
    "# add in age in years\n",
    "df['age_in_years'] = (datetime.now().year - \\\n",
    "                     pd.DatetimeIndex(df['age']).year)\n",
    "\n",
    "VARS_OF_INTEREST = np.append('age_in_years', VARS_OF_INTEREST)\n",
    "\n",
    "index_no_ICU = ~np.array(has_ICU_admission_date) & has_admission_date\n",
    "index_ICU_only = has_ICU_admission_date\n",
    "\n",
    "for c in VARS_OF_INTEREST[:10]:\n",
    "    \n",
    "    try:\n",
    "        fig = plt.figure(figsize=[15, 5])\n",
    "#         fig.suptitle('{}'.format(c), fontsize=16)\n",
    "\n",
    "        ax1 = fig.add_subplot(131)\n",
    "        sbn.distplot(df[index_no_ICU][c].values, hist=True, kde=False, rug=True, color='red', ax=ax1, bins=10)\n",
    "        plt.title('Patients without ICU admision (n={})'.format(sum(index_no_ICU)))\n",
    "        \n",
    "        tmp_no_ICU = df[index_no_ICU][c].values\n",
    "        tmp_ICU_only = df[index_ICU_only][c].values\n",
    "        \n",
    "        ax3 = fig.add_subplot(132)\n",
    "        ax3.axis('off')\n",
    "        ax3.text(0.5, 1.1, c, size=20, ha=\"center\", va=\"center\")\n",
    "        \n",
    "        try: \n",
    "            # TODO, write out descriptives in between\n",
    "            nan_mean_1, nan_std_1 = '{:.2f}'.format(np.nanmean(tmp_no_ICU)), '{:.2f}'.format(np.nanstd(tmp_no_ICU))\n",
    "            nan_mean_2, nan_std_2 = '{:.2f}'.format(np.nanmean(tmp_ICU_only)), '{:.2f}'.format(np.nanstd(tmp_ICU_only))\n",
    "\n",
    "            ax3.text(0.15, 0.9, 'Mean (STD):', size=15, ha=\"center\", va=\"bottom\")\n",
    "            ax3.text(0.15, 0.8, str(nan_mean_1) + ' (' +  str(nan_std_1) + ')', size=15, ha=\"center\", va=\"center\")\n",
    "\n",
    "            ax3.text(0.85, 0.9, 'Mean (STD):', size=15, ha=\"center\", va=\"bottom\")\n",
    "            ax3.text(0.85, 0.8, str(nan_mean_2) + ' (' +  str(nan_std_2) + ')', size=15, ha=\"center\", va=\"center\")\n",
    "        except:\n",
    "            print(\"Variable {} not continous? Skipping descriptives!\".format(c))\n",
    "            print()\n",
    "            print()\n",
    "        \n",
    "        ax2 = fig.add_subplot(133)\n",
    "        sbn.distplot(df[index_ICU_only][c].values, hist=True, kde=False, rug=True, color='red', ax=ax2, bins=10)\n",
    "        plt.title('Patients with ICU admission (n={})'.format(sum(index_ICU_only)))\n",
    "\n",
    "        plt.show()\n",
    "    \n",
    "    except:\n",
    "        print(\"Variable {} not found! Skipping.. \".format(c))\n",
    "        print()\n",
    "        print()"
   ]
  },
  {
   "cell_type": "markdown",
   "metadata": {},
   "source": [
    "## Train logistic regression model\n",
    "code by: Maarten Ottenhof"
   ]
  },
  {
   "cell_type": "code",
   "execution_count": 46,
   "metadata": {},
   "outputs": [
    {
     "name": "stdout",
     "output_type": "stream",
     "text": [
      "                                    Study ID        Record ID Form Type  \\\n",
      "0       2B1B90BA-69B8-48F5-BF2E-640284CB8709           000001       NaN   \n",
      "1       2B1B90BA-69B8-48F5-BF2E-640284CB8709           000002       NaN   \n",
      "2       2B1B90BA-69B8-48F5-BF2E-640284CB8709           110001       NaN   \n",
      "3       2B1B90BA-69B8-48F5-BF2E-640284CB8709           110002       NaN   \n",
      "4       2B1B90BA-69B8-48F5-BF2E-640284CB8709           110003       NaN   \n",
      "...                                      ...              ...       ...   \n",
      "158094  2B1B90BA-69B8-48F5-BF2E-640284CB8709  ARCHIVED-120088    Report   \n",
      "158095  2B1B90BA-69B8-48F5-BF2E-640284CB8709  ARCHIVED-120088    Report   \n",
      "158096  2B1B90BA-69B8-48F5-BF2E-640284CB8709  ARCHIVED-120088    Report   \n",
      "158097  2B1B90BA-69B8-48F5-BF2E-640284CB8709  ARCHIVED-120088    Report   \n",
      "158098  2B1B90BA-69B8-48F5-BF2E-640284CB8709  ARCHIVED-120088    Report   \n",
      "\n",
      "                            Form Instance ID  \\\n",
      "0                                        NaN   \n",
      "1                                        NaN   \n",
      "2                                        NaN   \n",
      "3                                        NaN   \n",
      "4                                        NaN   \n",
      "...                                      ...   \n",
      "158094  20E29CD3-B847-4515-9FB2-43139BEB680A   \n",
      "158095  20E29CD3-B847-4515-9FB2-43139BEB680A   \n",
      "158096  20E29CD3-B847-4515-9FB2-43139BEB680A   \n",
      "158097  20E29CD3-B847-4515-9FB2-43139BEB680A   \n",
      "158098  20E29CD3-B847-4515-9FB2-43139BEB680A   \n",
      "\n",
      "                                  Form Instance Name  \\\n",
      "0                                                NaN   \n",
      "1                                                NaN   \n",
      "2                                                NaN   \n",
      "3                                                NaN   \n",
      "4                                                NaN   \n",
      "...                                              ...   \n",
      "158094  Daily case record form - 20-03-2020 12:02:41   \n",
      "158095  Daily case record form - 20-03-2020 12:02:41   \n",
      "158096  Daily case record form - 20-03-2020 12:02:41   \n",
      "158097  Daily case record form - 20-03-2020 12:02:41   \n",
      "158098  Daily case record form - 20-03-2020 12:02:41   \n",
      "\n",
      "                                    Field ID Value                 Date  \\\n",
      "0                                        NaN   NaN                  NaN   \n",
      "1                                        NaN   NaN                  NaN   \n",
      "2                                        NaN   NaN                  NaN   \n",
      "3                                        NaN   NaN                  NaN   \n",
      "4                                        NaN   NaN                  NaN   \n",
      "...                                      ...   ...                  ...   \n",
      "158094  F15C8EB2-2E38-4CDC-99FC-4C2DB0026449     2  2020-03-26 11:06:41   \n",
      "158095  F52861E6-2E8C-47A0-98B7-4BF88DB3CA57    11  2020-03-26 11:06:40   \n",
      "158096  FA052F0E-BE81-4444-8B6D-3D3597186949   394  2020-03-26 11:08:12   \n",
      "158097  FF81B837-92AA-4772-B66C-0C1EE3360228     1  2020-03-26 11:07:57   \n",
      "158098  FF9533A1-4D25-4074-BBEF-9DB8D231BCA2     1  2020-03-26 11:08:04   \n",
      "\n",
      "                                     User ID  \n",
      "0       11AA4EBE-4D84-467C-827E-F541399BFC91  \n",
      "1       EF03698E-868E-3DA5-AD1A-D42CDEDDB483  \n",
      "2       ED62362A-9F7C-1DB8-5BA8-DD4CEDA1D7FA  \n",
      "3       1E6220EB-0809-4109-BBA0-4AD4285964A3  \n",
      "4       1D6E0C53-A58F-492F-9030-2EDDFE4E2CFE  \n",
      "...                                      ...  \n",
      "158094  6481EFED-6357-4937-B8A1-37C2874150FD  \n",
      "158095  6481EFED-6357-4937-B8A1-37C2874150FD  \n",
      "158096  6481EFED-6357-4937-B8A1-37C2874150FD  \n",
      "158097  6481EFED-6357-4937-B8A1-37C2874150FD  \n",
      "158098  6481EFED-6357-4937-B8A1-37C2874150FD  \n",
      "\n",
      "[158099 rows x 9 columns]\n"
     ]
    },
    {
     "ename": "ValueError",
     "evalue": "invalid literal for int() with base 10: 'Missing (not asked)'",
     "output_type": "error",
     "traceback": [
      "\u001b[0;31m---------------------------------------------------------------------------\u001b[0m",
      "\u001b[0;31mValueError\u001b[0m                                Traceback (most recent call last)",
      "\u001b[0;32m<ipython-input-46-ce2cfb436c90>\u001b[0m in \u001b[0;36m<module>\u001b[0;34m\u001b[0m\n\u001b[0;32m----> 1\u001b[0;31m \u001b[0;32mimport\u001b[0m \u001b[0mcovid19_ICU_admission\u001b[0m\u001b[0;34m\u001b[0m\u001b[0;34m\u001b[0m\u001b[0m\n\u001b[0m",
      "\u001b[0;32m~/Documents/Repositories/covid19_CDSS/covid19_ICU_admission.py\u001b[0m in \u001b[0;36m<module>\u001b[0;34m\u001b[0m\n\u001b[1;32m    248\u001b[0m \u001b[0;34m\u001b[0m\u001b[0m\n\u001b[1;32m    249\u001b[0m \u001b[0mx\u001b[0m\u001b[0;34m,\u001b[0m \u001b[0my\u001b[0m\u001b[0;34m,\u001b[0m \u001b[0mcol_dict\u001b[0m\u001b[0;34m,\u001b[0m \u001b[0mfield_types\u001b[0m \u001b[0;34m=\u001b[0m \u001b[0mload_data\u001b[0m\u001b[0;34m(\u001b[0m\u001b[0mfrom_file\u001b[0m\u001b[0;34m=\u001b[0m\u001b[0;32mFalse\u001b[0m\u001b[0;34m,\u001b[0m \u001b[0mpath_creds\u001b[0m\u001b[0;34m=\u001b[0m\u001b[0mpath_creds\u001b[0m\u001b[0;34m)\u001b[0m\u001b[0;34m\u001b[0m\u001b[0;34m\u001b[0m\u001b[0m\n\u001b[0;32m--> 250\u001b[0;31m \u001b[0mx\u001b[0m \u001b[0;34m=\u001b[0m \u001b[0mpreprocess\u001b[0m\u001b[0;34m(\u001b[0m\u001b[0mx\u001b[0m\u001b[0;34m,\u001b[0m \u001b[0mcol_dict\u001b[0m\u001b[0;34m,\u001b[0m \u001b[0mfield_types\u001b[0m\u001b[0;34m)\u001b[0m\u001b[0;34m\u001b[0m\u001b[0;34m\u001b[0m\u001b[0m\n\u001b[0m\u001b[1;32m    251\u001b[0m \u001b[0mx\u001b[0m \u001b[0;34m=\u001b[0m \u001b[0mfeature_selection\u001b[0m\u001b[0;34m(\u001b[0m\u001b[0mx\u001b[0m\u001b[0;34m,\u001b[0m \u001b[0mcol_dict\u001b[0m\u001b[0;34m,\u001b[0m \u001b[0mfield_types\u001b[0m\u001b[0;34m)\u001b[0m\u001b[0;34m\u001b[0m\u001b[0;34m\u001b[0m\u001b[0m\n\u001b[1;32m    252\u001b[0m \u001b[0;34m\u001b[0m\u001b[0m\n",
      "\u001b[0;32m~/Documents/Repositories/covid19_CDSS/covid19_ICU_admission.py\u001b[0m in \u001b[0;36mpreprocess\u001b[0;34m(data, col_dict, field_types)\u001b[0m\n\u001b[1;32m    124\u001b[0m     \u001b[0;31m# Binary features --> Most radio button fields\u001b[0m\u001b[0;34m\u001b[0m\u001b[0;34m\u001b[0m\u001b[0;34m\u001b[0m\u001b[0m\n\u001b[1;32m    125\u001b[0m     \u001b[0mradio_fields\u001b[0m \u001b[0;34m=\u001b[0m \u001b[0mis_in_columns\u001b[0m\u001b[0;34m(\u001b[0m\u001b[0mfield_types\u001b[0m\u001b[0;34m[\u001b[0m\u001b[0;34m'Variable name'\u001b[0m\u001b[0;34m]\u001b[0m\u001b[0;34m[\u001b[0m\u001b[0mfield_types\u001b[0m\u001b[0;34m[\u001b[0m\u001b[0;34m'Field type'\u001b[0m\u001b[0;34m]\u001b[0m \u001b[0;34m==\u001b[0m \u001b[0;34m'radio'\u001b[0m\u001b[0;34m]\u001b[0m\u001b[0;34m.\u001b[0m\u001b[0mtolist\u001b[0m\u001b[0;34m(\u001b[0m\u001b[0;34m)\u001b[0m\u001b[0;34m)\u001b[0m\u001b[0;34m\u001b[0m\u001b[0;34m\u001b[0m\u001b[0m\n\u001b[0;32m--> 126\u001b[0;31m     \u001b[0mdata\u001b[0m\u001b[0;34m[\u001b[0m\u001b[0mradio_fields\u001b[0m\u001b[0;34m]\u001b[0m \u001b[0;34m=\u001b[0m \u001b[0mtransform_binary_features\u001b[0m\u001b[0;34m(\u001b[0m\u001b[0mdata\u001b[0m\u001b[0;34m[\u001b[0m\u001b[0mradio_fields\u001b[0m\u001b[0;34m]\u001b[0m\u001b[0;34m)\u001b[0m\u001b[0;34m\u001b[0m\u001b[0;34m\u001b[0m\u001b[0m\n\u001b[0m\u001b[1;32m    127\u001b[0m \u001b[0;34m\u001b[0m\u001b[0m\n\u001b[1;32m    128\u001b[0m     \u001b[0;31m# Categorical --> Some radio button fields, dropdown fields, checkbox fields\u001b[0m\u001b[0;34m\u001b[0m\u001b[0;34m\u001b[0m\u001b[0;34m\u001b[0m\u001b[0m\n",
      "\u001b[0;32m~/Documents/Repositories/covid19_CDSS/covid19_ICU_util.py\u001b[0m in \u001b[0;36mtransform_binary_features\u001b[0;34m(data)\u001b[0m\n\u001b[1;32m    244\u001b[0m \u001b[0;34m\u001b[0m\u001b[0m\n\u001b[1;32m    245\u001b[0m     \u001b[0mdf\u001b[0m\u001b[0;34m.\u001b[0m\u001b[0mloc\u001b[0m\u001b[0;34m[\u001b[0m\u001b[0;34m:\u001b[0m\u001b[0;34m,\u001b[0m \u001b[0mRADIO_Y_N_NA\u001b[0m \u001b[0;34m+\u001b[0m \u001b[0mRADIO_Y_N\u001b[0m\u001b[0;34m]\u001b[0m \u001b[0;34m=\u001b[0m \u001b[0mdf\u001b[0m\u001b[0;34m.\u001b[0m\u001b[0mloc\u001b[0m\u001b[0;34m[\u001b[0m\u001b[0;34m:\u001b[0m\u001b[0;34m,\u001b[0m \u001b[0mRADIO_Y_N_NA\u001b[0m \u001b[0;34m+\u001b[0m \u001b[0mRADIO_Y_N\u001b[0m\u001b[0;34m]\u001b[0m\u001b[0;31m \u001b[0m\u001b[0;31m\\\u001b[0m\u001b[0;34m\u001b[0m\u001b[0;34m\u001b[0m\u001b[0m\n\u001b[0;32m--> 246\u001b[0;31m                                             \u001b[0;34m.\u001b[0m\u001b[0mfillna\u001b[0m\u001b[0;34m(\u001b[0m\u001b[0;36m3\u001b[0m\u001b[0;34m)\u001b[0m\u001b[0;34m.\u001b[0m\u001b[0mastype\u001b[0m\u001b[0;34m(\u001b[0m\u001b[0mint\u001b[0m\u001b[0;34m)\u001b[0m\u001b[0;31m \u001b[0m\u001b[0;31m\\\u001b[0m\u001b[0;34m\u001b[0m\u001b[0;34m\u001b[0m\u001b[0m\n\u001b[0m\u001b[1;32m    247\u001b[0m                                             \u001b[0;34m.\u001b[0m\u001b[0mapplymap\u001b[0m\u001b[0;34m(\u001b[0m\u001b[0;32mlambda\u001b[0m \u001b[0mx\u001b[0m\u001b[0;34m:\u001b[0m \u001b[0mdict_y_n_na\u001b[0m\u001b[0;34m[\u001b[0m\u001b[0mx\u001b[0m\u001b[0;34m]\u001b[0m\u001b[0;34m)\u001b[0m\u001b[0;34m\u001b[0m\u001b[0;34m\u001b[0m\u001b[0m\n\u001b[1;32m    248\u001b[0m     \u001b[0mdf\u001b[0m\u001b[0;34m.\u001b[0m\u001b[0mloc\u001b[0m\u001b[0;34m[\u001b[0m\u001b[0;34m:\u001b[0m\u001b[0;34m,\u001b[0m \u001b[0mRADIO_YC_YP_N_NA\u001b[0m \u001b[0;34m+\u001b[0m \u001b[0mRADIO_YC_YP_N\u001b[0m\u001b[0;34m]\u001b[0m \u001b[0;34m=\u001b[0m \u001b[0mdf\u001b[0m\u001b[0;34m.\u001b[0m\u001b[0mloc\u001b[0m\u001b[0;34m[\u001b[0m\u001b[0;34m:\u001b[0m\u001b[0;34m,\u001b[0m \u001b[0mRADIO_YC_YP_N_NA\u001b[0m \u001b[0;34m+\u001b[0m \u001b[0mRADIO_YC_YP_N\u001b[0m\u001b[0;34m]\u001b[0m\u001b[0;31m \u001b[0m\u001b[0;31m\\\u001b[0m\u001b[0;34m\u001b[0m\u001b[0;34m\u001b[0m\u001b[0m\n",
      "\u001b[0;32m~/opt/anaconda3/lib/python3.7/site-packages/pandas/core/generic.py\u001b[0m in \u001b[0;36mastype\u001b[0;34m(self, dtype, copy, errors)\u001b[0m\n\u001b[1;32m   5696\u001b[0m         \u001b[0;32melse\u001b[0m\u001b[0;34m:\u001b[0m\u001b[0;34m\u001b[0m\u001b[0;34m\u001b[0m\u001b[0m\n\u001b[1;32m   5697\u001b[0m             \u001b[0;31m# else, only a single dtype is given\u001b[0m\u001b[0;34m\u001b[0m\u001b[0;34m\u001b[0m\u001b[0;34m\u001b[0m\u001b[0m\n\u001b[0;32m-> 5698\u001b[0;31m             \u001b[0mnew_data\u001b[0m \u001b[0;34m=\u001b[0m \u001b[0mself\u001b[0m\u001b[0;34m.\u001b[0m\u001b[0m_data\u001b[0m\u001b[0;34m.\u001b[0m\u001b[0mastype\u001b[0m\u001b[0;34m(\u001b[0m\u001b[0mdtype\u001b[0m\u001b[0;34m=\u001b[0m\u001b[0mdtype\u001b[0m\u001b[0;34m,\u001b[0m \u001b[0mcopy\u001b[0m\u001b[0;34m=\u001b[0m\u001b[0mcopy\u001b[0m\u001b[0;34m,\u001b[0m \u001b[0merrors\u001b[0m\u001b[0;34m=\u001b[0m\u001b[0merrors\u001b[0m\u001b[0;34m)\u001b[0m\u001b[0;34m\u001b[0m\u001b[0;34m\u001b[0m\u001b[0m\n\u001b[0m\u001b[1;32m   5699\u001b[0m             \u001b[0;32mreturn\u001b[0m \u001b[0mself\u001b[0m\u001b[0;34m.\u001b[0m\u001b[0m_constructor\u001b[0m\u001b[0;34m(\u001b[0m\u001b[0mnew_data\u001b[0m\u001b[0;34m)\u001b[0m\u001b[0;34m.\u001b[0m\u001b[0m__finalize__\u001b[0m\u001b[0;34m(\u001b[0m\u001b[0mself\u001b[0m\u001b[0;34m)\u001b[0m\u001b[0;34m\u001b[0m\u001b[0;34m\u001b[0m\u001b[0m\n\u001b[1;32m   5700\u001b[0m \u001b[0;34m\u001b[0m\u001b[0m\n",
      "\u001b[0;32m~/opt/anaconda3/lib/python3.7/site-packages/pandas/core/internals/managers.py\u001b[0m in \u001b[0;36mastype\u001b[0;34m(self, dtype, copy, errors)\u001b[0m\n\u001b[1;32m    580\u001b[0m \u001b[0;34m\u001b[0m\u001b[0m\n\u001b[1;32m    581\u001b[0m     \u001b[0;32mdef\u001b[0m \u001b[0mastype\u001b[0m\u001b[0;34m(\u001b[0m\u001b[0mself\u001b[0m\u001b[0;34m,\u001b[0m \u001b[0mdtype\u001b[0m\u001b[0;34m,\u001b[0m \u001b[0mcopy\u001b[0m\u001b[0;34m:\u001b[0m \u001b[0mbool\u001b[0m \u001b[0;34m=\u001b[0m \u001b[0;32mFalse\u001b[0m\u001b[0;34m,\u001b[0m \u001b[0merrors\u001b[0m\u001b[0;34m:\u001b[0m \u001b[0mstr\u001b[0m \u001b[0;34m=\u001b[0m \u001b[0;34m\"raise\"\u001b[0m\u001b[0;34m)\u001b[0m\u001b[0;34m:\u001b[0m\u001b[0;34m\u001b[0m\u001b[0;34m\u001b[0m\u001b[0m\n\u001b[0;32m--> 582\u001b[0;31m         \u001b[0;32mreturn\u001b[0m \u001b[0mself\u001b[0m\u001b[0;34m.\u001b[0m\u001b[0mapply\u001b[0m\u001b[0;34m(\u001b[0m\u001b[0;34m\"astype\"\u001b[0m\u001b[0;34m,\u001b[0m \u001b[0mdtype\u001b[0m\u001b[0;34m=\u001b[0m\u001b[0mdtype\u001b[0m\u001b[0;34m,\u001b[0m \u001b[0mcopy\u001b[0m\u001b[0;34m=\u001b[0m\u001b[0mcopy\u001b[0m\u001b[0;34m,\u001b[0m \u001b[0merrors\u001b[0m\u001b[0;34m=\u001b[0m\u001b[0merrors\u001b[0m\u001b[0;34m)\u001b[0m\u001b[0;34m\u001b[0m\u001b[0;34m\u001b[0m\u001b[0m\n\u001b[0m\u001b[1;32m    583\u001b[0m \u001b[0;34m\u001b[0m\u001b[0m\n\u001b[1;32m    584\u001b[0m     \u001b[0;32mdef\u001b[0m \u001b[0mconvert\u001b[0m\u001b[0;34m(\u001b[0m\u001b[0mself\u001b[0m\u001b[0;34m,\u001b[0m \u001b[0;34m**\u001b[0m\u001b[0mkwargs\u001b[0m\u001b[0;34m)\u001b[0m\u001b[0;34m:\u001b[0m\u001b[0;34m\u001b[0m\u001b[0;34m\u001b[0m\u001b[0m\n",
      "\u001b[0;32m~/opt/anaconda3/lib/python3.7/site-packages/pandas/core/internals/managers.py\u001b[0m in \u001b[0;36mapply\u001b[0;34m(self, f, filter, **kwargs)\u001b[0m\n\u001b[1;32m    440\u001b[0m                 \u001b[0mapplied\u001b[0m \u001b[0;34m=\u001b[0m \u001b[0mb\u001b[0m\u001b[0;34m.\u001b[0m\u001b[0mapply\u001b[0m\u001b[0;34m(\u001b[0m\u001b[0mf\u001b[0m\u001b[0;34m,\u001b[0m \u001b[0;34m**\u001b[0m\u001b[0mkwargs\u001b[0m\u001b[0;34m)\u001b[0m\u001b[0;34m\u001b[0m\u001b[0;34m\u001b[0m\u001b[0m\n\u001b[1;32m    441\u001b[0m             \u001b[0;32melse\u001b[0m\u001b[0;34m:\u001b[0m\u001b[0;34m\u001b[0m\u001b[0;34m\u001b[0m\u001b[0m\n\u001b[0;32m--> 442\u001b[0;31m                 \u001b[0mapplied\u001b[0m \u001b[0;34m=\u001b[0m \u001b[0mgetattr\u001b[0m\u001b[0;34m(\u001b[0m\u001b[0mb\u001b[0m\u001b[0;34m,\u001b[0m \u001b[0mf\u001b[0m\u001b[0;34m)\u001b[0m\u001b[0;34m(\u001b[0m\u001b[0;34m**\u001b[0m\u001b[0mkwargs\u001b[0m\u001b[0;34m)\u001b[0m\u001b[0;34m\u001b[0m\u001b[0;34m\u001b[0m\u001b[0m\n\u001b[0m\u001b[1;32m    443\u001b[0m             \u001b[0mresult_blocks\u001b[0m \u001b[0;34m=\u001b[0m \u001b[0m_extend_blocks\u001b[0m\u001b[0;34m(\u001b[0m\u001b[0mapplied\u001b[0m\u001b[0;34m,\u001b[0m \u001b[0mresult_blocks\u001b[0m\u001b[0;34m)\u001b[0m\u001b[0;34m\u001b[0m\u001b[0;34m\u001b[0m\u001b[0m\n\u001b[1;32m    444\u001b[0m \u001b[0;34m\u001b[0m\u001b[0m\n",
      "\u001b[0;32m~/opt/anaconda3/lib/python3.7/site-packages/pandas/core/internals/blocks.py\u001b[0m in \u001b[0;36mastype\u001b[0;34m(self, dtype, copy, errors)\u001b[0m\n\u001b[1;32m    623\u001b[0m             \u001b[0mvals1d\u001b[0m \u001b[0;34m=\u001b[0m \u001b[0mvalues\u001b[0m\u001b[0;34m.\u001b[0m\u001b[0mravel\u001b[0m\u001b[0;34m(\u001b[0m\u001b[0;34m)\u001b[0m\u001b[0;34m\u001b[0m\u001b[0;34m\u001b[0m\u001b[0m\n\u001b[1;32m    624\u001b[0m             \u001b[0;32mtry\u001b[0m\u001b[0;34m:\u001b[0m\u001b[0;34m\u001b[0m\u001b[0;34m\u001b[0m\u001b[0m\n\u001b[0;32m--> 625\u001b[0;31m                 \u001b[0mvalues\u001b[0m \u001b[0;34m=\u001b[0m \u001b[0mastype_nansafe\u001b[0m\u001b[0;34m(\u001b[0m\u001b[0mvals1d\u001b[0m\u001b[0;34m,\u001b[0m \u001b[0mdtype\u001b[0m\u001b[0;34m,\u001b[0m \u001b[0mcopy\u001b[0m\u001b[0;34m=\u001b[0m\u001b[0;32mTrue\u001b[0m\u001b[0;34m)\u001b[0m\u001b[0;34m\u001b[0m\u001b[0;34m\u001b[0m\u001b[0m\n\u001b[0m\u001b[1;32m    626\u001b[0m             \u001b[0;32mexcept\u001b[0m \u001b[0;34m(\u001b[0m\u001b[0mValueError\u001b[0m\u001b[0;34m,\u001b[0m \u001b[0mTypeError\u001b[0m\u001b[0;34m)\u001b[0m\u001b[0;34m:\u001b[0m\u001b[0;34m\u001b[0m\u001b[0;34m\u001b[0m\u001b[0m\n\u001b[1;32m    627\u001b[0m                 \u001b[0;31m# e.g. astype_nansafe can fail on object-dtype of strings\u001b[0m\u001b[0;34m\u001b[0m\u001b[0;34m\u001b[0m\u001b[0;34m\u001b[0m\u001b[0m\n",
      "\u001b[0;32m~/opt/anaconda3/lib/python3.7/site-packages/pandas/core/dtypes/cast.py\u001b[0m in \u001b[0;36mastype_nansafe\u001b[0;34m(arr, dtype, copy, skipna)\u001b[0m\n\u001b[1;32m    872\u001b[0m         \u001b[0;31m# work around NumPy brokenness, #1987\u001b[0m\u001b[0;34m\u001b[0m\u001b[0;34m\u001b[0m\u001b[0;34m\u001b[0m\u001b[0m\n\u001b[1;32m    873\u001b[0m         \u001b[0;32mif\u001b[0m \u001b[0mnp\u001b[0m\u001b[0;34m.\u001b[0m\u001b[0missubdtype\u001b[0m\u001b[0;34m(\u001b[0m\u001b[0mdtype\u001b[0m\u001b[0;34m.\u001b[0m\u001b[0mtype\u001b[0m\u001b[0;34m,\u001b[0m \u001b[0mnp\u001b[0m\u001b[0;34m.\u001b[0m\u001b[0minteger\u001b[0m\u001b[0;34m)\u001b[0m\u001b[0;34m:\u001b[0m\u001b[0;34m\u001b[0m\u001b[0;34m\u001b[0m\u001b[0m\n\u001b[0;32m--> 874\u001b[0;31m             \u001b[0;32mreturn\u001b[0m \u001b[0mlib\u001b[0m\u001b[0;34m.\u001b[0m\u001b[0mastype_intsafe\u001b[0m\u001b[0;34m(\u001b[0m\u001b[0marr\u001b[0m\u001b[0;34m.\u001b[0m\u001b[0mravel\u001b[0m\u001b[0;34m(\u001b[0m\u001b[0;34m)\u001b[0m\u001b[0;34m,\u001b[0m \u001b[0mdtype\u001b[0m\u001b[0;34m)\u001b[0m\u001b[0;34m.\u001b[0m\u001b[0mreshape\u001b[0m\u001b[0;34m(\u001b[0m\u001b[0marr\u001b[0m\u001b[0;34m.\u001b[0m\u001b[0mshape\u001b[0m\u001b[0;34m)\u001b[0m\u001b[0;34m\u001b[0m\u001b[0;34m\u001b[0m\u001b[0m\n\u001b[0m\u001b[1;32m    875\u001b[0m \u001b[0;34m\u001b[0m\u001b[0m\n\u001b[1;32m    876\u001b[0m         \u001b[0;31m# if we have a datetime/timedelta array of objects\u001b[0m\u001b[0;34m\u001b[0m\u001b[0;34m\u001b[0m\u001b[0;34m\u001b[0m\u001b[0m\n",
      "\u001b[0;32mpandas/_libs/lib.pyx\u001b[0m in \u001b[0;36mpandas._libs.lib.astype_intsafe\u001b[0;34m()\u001b[0m\n",
      "\u001b[0;31mValueError\u001b[0m: invalid literal for int() with base 10: 'Missing (not asked)'"
     ]
    }
   ],
   "source": [
    "import covid19_ICU_admission\n"
   ]
  },
  {
   "cell_type": "code",
   "execution_count": 47,
   "metadata": {},
   "outputs": [
    {
     "ename": "NameError",
     "evalue": "name 'df' is not defined",
     "output_type": "error",
     "traceback": [
      "\u001b[0;31m---------------------------------------------------------------------------\u001b[0m",
      "\u001b[0;31mNameError\u001b[0m                                 Traceback (most recent call last)",
      "\u001b[0;32m<ipython-input-47-0d330a6b2c14>\u001b[0m in \u001b[0;36m<module>\u001b[0;34m\u001b[0m\n\u001b[1;32m      1\u001b[0m \u001b[0;31m# Calculate age in years\u001b[0m\u001b[0;34m\u001b[0m\u001b[0;34m\u001b[0m\u001b[0;34m\u001b[0m\u001b[0m\n\u001b[1;32m      2\u001b[0m age_in_years = (datetime.now().year - \\\n\u001b[0;32m----> 3\u001b[0;31m                 pd.DatetimeIndex(df[has_admission_date and has_ICU_admission_date]['age']).year)\n\u001b[0m\u001b[1;32m      4\u001b[0m \u001b[0;34m\u001b[0m\u001b[0m\n\u001b[1;32m      5\u001b[0m \u001b[0mvalid_age\u001b[0m \u001b[0;34m=\u001b[0m \u001b[0mage_in_years\u001b[0m\u001b[0;34m[\u001b[0m\u001b[0;34m[\u001b[0m\u001b[0mx\u001b[0m\u001b[0;34m.\u001b[0m\u001b[0mdays\u001b[0m \u001b[0;34m>=\u001b[0m \u001b[0;36m0\u001b[0m \u001b[0;32mfor\u001b[0m \u001b[0mx\u001b[0m \u001b[0;32min\u001b[0m \u001b[0mtime_on_ICU\u001b[0m\u001b[0;34m]\u001b[0m\u001b[0;34m]\u001b[0m \u001b[0;31m# Skip patients with negative ICU Duration\u001b[0m\u001b[0;34m\u001b[0m\u001b[0;34m\u001b[0m\u001b[0m\n",
      "\u001b[0;31mNameError\u001b[0m: name 'df' is not defined"
     ]
    }
   ],
   "source": [
    "# Calculate age in years\n",
    "age_in_years = (datetime.now().year - \\\n",
    "                pd.DatetimeIndex(df[has_admission_date and has_ICU_admission_date]['age']).year)\n",
    "\n",
    "valid_age = age_in_years[[x.days >= 0 for x in time_on_ICU]] # Skip patients with negative ICU Duration\n",
    "\n",
    "data = pd.DataFrame(data=np.array([valid_ICU_durations_days, valid_age]).T, columns=['ICU Duration (days)', 'Age (Years)'])\n",
    "\n",
    "fig = sbn.jointplot(data=data, x=\"ICU Duration (days)\", y=\"Age (Years)\")\n",
    "\n",
    "# Save to pdf\n",
    "# figure_dir = 'C:\\\\Users\\\\AMC\\\\Desktop\\\\\\WouterP\\\\covid19_CDSS\\\\Figures\\\\'\n",
    "# fig.savefig(osp.join(figure_dir, 'JointPlot_Age_Duration' + datetime.today().strftime(\"_%d_%m_%Y\") + '.pdf'))"
   ]
  },
  {
   "cell_type": "code",
   "execution_count": null,
   "metadata": {},
   "outputs": [],
   "source": [
    "# huidig aantal COVID patiënten in rest van ZH\n",
    "# kans van gemiddelde COVID zaal / MC patiënt naar IC moet < 24 uur. < 48 uur, < 72 uur \n",
    "# kans dat gemiddelde COVID zaal patiënt kan worden ontslagen < 24 uur. < 48 uur, < 72 uur \n",
    "# kans dat gemiddelde IC patiënt nog 24, 48 en 72 uur op IC moet blijven \n",
    "# duur van gemiddelde zaal / MC opname\n",
    "# te verwachten gemiddelde resterende duur van zaal / MC opname \n",
    "# te verwachten gemiddelde resterende duur van IC opname\n",
    "# % aantal opgenomen patiënten met te verwachten goede outcome (naar huis), met te verwachten redelijke outcome (revalidatie), matige outcome (verpleegtehuis), slechte outcome (palliatie, overlijden)\n",
    "# code waarin staat hoe het met de capaciteit in ZH is obv voor Corona beschikbare bedden - groen oranje rood zwart\n",
    "# (aantal patiënten dat optimale behandeling krijgt - controversieel - niet in 1.0 versie"
   ]
  },
  {
   "cell_type": "code",
   "execution_count": null,
   "metadata": {},
   "outputs": [],
   "source": []
  }
 ],
 "metadata": {
  "kernelspec": {
   "display_name": "Python 3",
   "language": "python",
   "name": "python3"
  },
  "language_info": {
   "codemirror_mode": {
    "name": "ipython",
    "version": 3
   },
   "file_extension": ".py",
   "mimetype": "text/x-python",
   "name": "python",
   "nbconvert_exporter": "python",
   "pygments_lexer": "ipython3",
   "version": "3.7.5"
  }
 },
 "nbformat": 4,
 "nbformat_minor": 4
}
